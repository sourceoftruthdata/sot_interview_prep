{
 "cells": [
  {
   "cell_type": "code",
   "execution_count": null,
   "metadata": {},
   "outputs": [],
   "source": [
    "# given n pais of parenthese, write a function to generate all combos of well-formed parenthesis:\n",
    "\n",
    "def create_paren(n):\n",
    "\n",
    "    out = []\n",
    " "
   ]
  },
  {
   "cell_type": "code",
   "execution_count": 1,
   "metadata": {},
   "outputs": [
    {
     "name": "stdout",
     "output_type": "stream",
     "text": [
      "['((()))', '(()())', '(())()', '()(())', '()()()']\n"
     ]
    }
   ],
   "source": [
    "def generate_parentheses(n):\n",
    "    def backtrack(s='', left=0, right=0):\n",
    "        if len(s) == 2 * n:\n",
    "            # When the length of the string s is 2 * n, a valid sequence is complete\n",
    "            result.append(s)\n",
    "            return\n",
    "        if left < n:\n",
    "            # If we can still add a left parenthesis (opening), add one and recurse\n",
    "            backtrack(s + '(', left + 1, right)\n",
    "        if right < left:\n",
    "            # If we can add a right parenthesis (closing) and it won't exceed the number of left ones, add one and recurse\n",
    "            backtrack(s + ')', left, right + 1)\n",
    "\n",
    "    result = []\n",
    "    backtrack()\n",
    "    return result\n",
    "\n",
    "# Example usage\n",
    "print(generate_parentheses(3))\n"
   ]
  },
  {
   "cell_type": "code",
   "execution_count": 5,
   "metadata": {},
   "outputs": [],
   "source": [
    "s = \"()\""
   ]
  },
  {
   "cell_type": "code",
   "execution_count": 18,
   "metadata": {},
   "outputs": [
    {
     "name": "stdout",
     "output_type": "stream",
     "text": [
      "dict_keys(['(', '[', '{'])\n",
      "dict_values([')', ']', '}'])\n",
      "dict_keys(['(', '[', '{'])\n",
      "dict_values([')', ']', '}'])\n"
     ]
    }
   ],
   "source": [
    "def valid(str):\n",
    "\n",
    "    my_dict = {'(': ')', '[': ']', '{': '}'}\n",
    "\n",
    "    for val in str:\n",
    "        # print(val)\n",
    "        # print(my_dict.keys())\n",
    "        # print(my_dict.values())\n",
    "        if my_dict.keys == '(':\n",
    "        #     my_dict[val].keys != ')'\n",
    "\n",
    "\n",
    "# invoke\n",
    "# valid(s)"
   ]
  },
  {
   "cell_type": "code",
   "execution_count": null,
   "metadata": {},
   "outputs": [],
   "source": []
  }
 ],
 "metadata": {
  "kernelspec": {
   "display_name": ".venv",
   "language": "python",
   "name": "python3"
  },
  "language_info": {
   "codemirror_mode": {
    "name": "ipython",
    "version": 3
   },
   "file_extension": ".py",
   "mimetype": "text/x-python",
   "name": "python",
   "nbconvert_exporter": "python",
   "pygments_lexer": "ipython3",
   "version": "3.9.6"
  }
 },
 "nbformat": 4,
 "nbformat_minor": 2
}
