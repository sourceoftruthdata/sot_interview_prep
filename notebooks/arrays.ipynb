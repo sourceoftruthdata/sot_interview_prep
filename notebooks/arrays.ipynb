{
 "cells": [
  {
   "cell_type": "code",
   "execution_count": 1,
   "metadata": {},
   "outputs": [],
   "source": [
    "str_array = ['flower', 'flow', 'flag']"
   ]
  },
  {
   "cell_type": "code",
   "execution_count": 2,
   "metadata": {},
   "outputs": [
    {
     "data": {
      "text/plain": [
       "['flower', 'flow', 'flag']"
      ]
     },
     "execution_count": 2,
     "metadata": {},
     "output_type": "execute_result"
    }
   ],
   "source": [
    "##################\n",
    "# write a function that will return the most common prefix given the above array\n",
    "##################\n",
    "\n",
    "str_array"
   ]
  },
  {
   "cell_type": "code",
   "execution_count": 3,
   "metadata": {},
   "outputs": [
    {
     "data": {
      "text/plain": [
       "{'flag', 'flow', 'flower'}"
      ]
     },
     "execution_count": 3,
     "metadata": {},
     "output_type": "execute_result"
    }
   ],
   "source": [
    "set(str_array)"
   ]
  },
  {
   "cell_type": "code",
   "execution_count": 7,
   "metadata": {},
   "outputs": [
    {
     "data": {
      "text/plain": [
       "{'flag', 'flow', 'flower'}"
      ]
     },
     "execution_count": 7,
     "metadata": {},
     "output_type": "execute_result"
    }
   ],
   "source": [
    "set(str_array)"
   ]
  },
  {
   "cell_type": "code",
   "execution_count": 35,
   "metadata": {},
   "outputs": [
    {
     "name": "stdout",
     "output_type": "stream",
     "text": [
      "loop_len:  4\n",
      "flower\n",
      "['f']\n",
      "['f', 'l']\n",
      "['f', 'l', 'o']\n",
      "['f', 'l', 'o', 'w']\n",
      "['f', 'l', 'o', 'w', 'e']\n",
      "['f', 'l', 'o', 'w', 'e', 'r']\n",
      "flow\n",
      "['f', 'l', 'o', 'w', 'e', 'r', 'f']\n",
      "['f', 'l', 'o', 'w', 'e', 'r', 'f', 'l']\n",
      "['f', 'l', 'o', 'w', 'e', 'r', 'f', 'l', 'o']\n",
      "['f', 'l', 'o', 'w', 'e', 'r', 'f', 'l', 'o', 'w']\n",
      "flag\n",
      "['f', 'l', 'o', 'w', 'e', 'r', 'f', 'l', 'o', 'w', 'f']\n",
      "['f', 'l', 'o', 'w', 'e', 'r', 'f', 'l', 'o', 'w', 'f', 'l']\n",
      "['f', 'l', 'o', 'w', 'e', 'r', 'f', 'l', 'o', 'w', 'f', 'l', 'a']\n",
      "['f', 'l', 'o', 'w', 'e', 'r', 'f', 'l', 'o', 'w', 'f', 'l', 'a', 'g']\n"
     ]
    }
   ],
   "source": [
    "def pre(list):\n",
    "\n",
    "    # take the shortest word to iterate over\n",
    "\n",
    "    loop_len = min(len(w) for w in list)\n",
    "    print('loop_len: ', loop_len)\n",
    "\n",
    "    out = []\n",
    "\n",
    "    for val in list:\n",
    "        print(val)\n",
    "        for letter in val:\n",
    "            out.append(letter)\n",
    "            print(out)\n",
    "\n",
    "# invoke\n",
    "pre(str_array)"
   ]
  },
  {
   "cell_type": "code",
   "execution_count": 11,
   "metadata": {},
   "outputs": [],
   "source": [
    "setA = set(str_array)"
   ]
  },
  {
   "cell_type": "code",
   "execution_count": 20,
   "metadata": {},
   "outputs": [
    {
     "data": {
      "text/plain": [
       "{'flag', 'flow', 'flower'}"
      ]
     },
     "execution_count": 20,
     "metadata": {},
     "output_type": "execute_result"
    }
   ],
   "source": [
    "# how to select element in set\n",
    "\n",
    "\n",
    "setA\n"
   ]
  },
  {
   "cell_type": "code",
   "execution_count": 33,
   "metadata": {},
   "outputs": [
    {
     "data": {
      "text/plain": [
       "6"
      ]
     },
     "execution_count": 33,
     "metadata": {},
     "output_type": "execute_result"
    }
   ],
   "source": [
    "# max\n",
    "\n",
    "max(len(val) for val in setA)\n"
   ]
  },
  {
   "cell_type": "code",
   "execution_count": 21,
   "metadata": {},
   "outputs": [
    {
     "name": "stdout",
     "output_type": "stream",
     "text": [
      "fl\n"
     ]
    }
   ],
   "source": [
    "def common_prefix(str_array):\n",
    "    if not str_array:\n",
    "        return \"\"\n",
    "    \n",
    "    # Find the shortest string in the array\n",
    "    min_length = min(len(s) for s in str_array)\n",
    "    \n",
    "    # Iterate through characters until a mismatch is found\n",
    "    for i in range(min_length):\n",
    "        char = str_array[0][i]\n",
    "        if not all(s[i] == char for s in str_array):\n",
    "            return str_array[0][:i]\n",
    "    \n",
    "    # If no mismatch is found, return the shortest string\n",
    "    return str_array[0][:min_length]\n",
    "\n",
    "# Example usage\n",
    "str_array = ['flower', 'flow', 'flag']\n",
    "print(common_prefix(str_array))  # Output: 'fl'\n"
   ]
  }
 ],
 "metadata": {
  "kernelspec": {
   "display_name": ".venv",
   "language": "python",
   "name": "python3"
  },
  "language_info": {
   "codemirror_mode": {
    "name": "ipython",
    "version": 3
   },
   "file_extension": ".py",
   "mimetype": "text/x-python",
   "name": "python",
   "nbconvert_exporter": "python",
   "pygments_lexer": "ipython3",
   "version": "3.9.6"
  }
 },
 "nbformat": 4,
 "nbformat_minor": 2
}
