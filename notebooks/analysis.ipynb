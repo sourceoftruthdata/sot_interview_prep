{
 "cells": [
  {
   "cell_type": "code",
   "execution_count": 1,
   "metadata": {},
   "outputs": [],
   "source": [
    "#########################\n",
    "# Author: Source of Truth Data Labss\n",
    "# Date: 2018-09-02\n",
    "# Version: 1.0\n",
    "# Description: A brief Data Science template\n",
    "# Revision History: 2018-09-02 Program creation\n",
    "# Purpose: this code is meant to be compiled using Spyder for analysis of wine data          \n",
    "#########################"
   ]
  },
  {
   "cell_type": "code",
   "execution_count": 2,
   "metadata": {},
   "outputs": [],
   "source": [
    "#########################\n",
    "# install requirements \n",
    "#########################\n",
    "\n",
    "# %pip freeze > requirements.txt\n",
    "# %pip install requirements"
   ]
  },
  {
   "cell_type": "code",
   "execution_count": 3,
   "metadata": {},
   "outputs": [],
   "source": [
    "#########################\n",
    "# import packages \n",
    "#########################\n",
    "\n",
    "import pandas as pd\n",
    "import numpy as np\n",
    "import seaborn as sns\n",
    "import matplotlib.pyplot as plt\n",
    "import statsmodels.formula.api as smf\n",
    "from urllib.request import urlretrieve\n",
    "from sklearn.model_selection import train_test_split\n",
    "from sklearn import linear_model\n",
    "from sklearn.metrics import mean_squared_error\n",
    "from sklearn.decomposition import PCA\n",
    "from sklearn.preprocessing import StandardScaler\n",
    "from sklearn.preprocessing import LabelEncoder\n",
    "# from sklearn import bin\n"
   ]
  },
  {
   "cell_type": "code",
   "execution_count": 4,
   "metadata": {},
   "outputs": [],
   "source": [
    "##############################\n",
    "# import woe\n",
    "##############################\n",
    "\n",
    "# import woe.feature_process as fp\n",
    "# import woe.GridSearch as gs\n",
    "# from woe.eval import compute_ks\n"
   ]
  },
  {
   "cell_type": "code",
   "execution_count": 5,
   "metadata": {},
   "outputs": [
    {
     "data": {
      "text/html": [
       "<div>\n",
       "<style scoped>\n",
       "    .dataframe tbody tr th:only-of-type {\n",
       "        vertical-align: middle;\n",
       "    }\n",
       "\n",
       "    .dataframe tbody tr th {\n",
       "        vertical-align: top;\n",
       "    }\n",
       "\n",
       "    .dataframe thead th {\n",
       "        text-align: right;\n",
       "    }\n",
       "</style>\n",
       "<table border=\"1\" class=\"dataframe\">\n",
       "  <thead>\n",
       "    <tr style=\"text-align: right;\">\n",
       "      <th></th>\n",
       "      <th>fixed acidity</th>\n",
       "      <th>volatile acidity</th>\n",
       "      <th>citric acid</th>\n",
       "      <th>residual sugar</th>\n",
       "      <th>chlorides</th>\n",
       "      <th>free sulfur dioxide</th>\n",
       "      <th>total sulfur dioxide</th>\n",
       "      <th>density</th>\n",
       "      <th>pH</th>\n",
       "      <th>sulphates</th>\n",
       "      <th>alcohol</th>\n",
       "      <th>quality</th>\n",
       "    </tr>\n",
       "  </thead>\n",
       "  <tbody>\n",
       "    <tr>\n",
       "      <th>0</th>\n",
       "      <td>7.4</td>\n",
       "      <td>0.70</td>\n",
       "      <td>0.00</td>\n",
       "      <td>1.9</td>\n",
       "      <td>0.076</td>\n",
       "      <td>11.0</td>\n",
       "      <td>34.0</td>\n",
       "      <td>0.9978</td>\n",
       "      <td>3.51</td>\n",
       "      <td>0.56</td>\n",
       "      <td>9.4</td>\n",
       "      <td>5</td>\n",
       "    </tr>\n",
       "    <tr>\n",
       "      <th>1</th>\n",
       "      <td>7.8</td>\n",
       "      <td>0.88</td>\n",
       "      <td>0.00</td>\n",
       "      <td>2.6</td>\n",
       "      <td>0.098</td>\n",
       "      <td>25.0</td>\n",
       "      <td>67.0</td>\n",
       "      <td>0.9968</td>\n",
       "      <td>3.20</td>\n",
       "      <td>0.68</td>\n",
       "      <td>9.8</td>\n",
       "      <td>5</td>\n",
       "    </tr>\n",
       "    <tr>\n",
       "      <th>2</th>\n",
       "      <td>7.8</td>\n",
       "      <td>0.76</td>\n",
       "      <td>0.04</td>\n",
       "      <td>2.3</td>\n",
       "      <td>0.092</td>\n",
       "      <td>15.0</td>\n",
       "      <td>54.0</td>\n",
       "      <td>0.9970</td>\n",
       "      <td>3.26</td>\n",
       "      <td>0.65</td>\n",
       "      <td>9.8</td>\n",
       "      <td>5</td>\n",
       "    </tr>\n",
       "    <tr>\n",
       "      <th>3</th>\n",
       "      <td>11.2</td>\n",
       "      <td>0.28</td>\n",
       "      <td>0.56</td>\n",
       "      <td>1.9</td>\n",
       "      <td>0.075</td>\n",
       "      <td>17.0</td>\n",
       "      <td>60.0</td>\n",
       "      <td>0.9980</td>\n",
       "      <td>3.16</td>\n",
       "      <td>0.58</td>\n",
       "      <td>9.8</td>\n",
       "      <td>6</td>\n",
       "    </tr>\n",
       "    <tr>\n",
       "      <th>4</th>\n",
       "      <td>7.4</td>\n",
       "      <td>0.70</td>\n",
       "      <td>0.00</td>\n",
       "      <td>1.9</td>\n",
       "      <td>0.076</td>\n",
       "      <td>11.0</td>\n",
       "      <td>34.0</td>\n",
       "      <td>0.9978</td>\n",
       "      <td>3.51</td>\n",
       "      <td>0.56</td>\n",
       "      <td>9.4</td>\n",
       "      <td>5</td>\n",
       "    </tr>\n",
       "  </tbody>\n",
       "</table>\n",
       "</div>"
      ],
      "text/plain": [
       "   fixed acidity  volatile acidity  citric acid  residual sugar  chlorides  \\\n",
       "0            7.4              0.70         0.00             1.9      0.076   \n",
       "1            7.8              0.88         0.00             2.6      0.098   \n",
       "2            7.8              0.76         0.04             2.3      0.092   \n",
       "3           11.2              0.28         0.56             1.9      0.075   \n",
       "4            7.4              0.70         0.00             1.9      0.076   \n",
       "\n",
       "   free sulfur dioxide  total sulfur dioxide  density    pH  sulphates  \\\n",
       "0                 11.0                  34.0   0.9978  3.51       0.56   \n",
       "1                 25.0                  67.0   0.9968  3.20       0.68   \n",
       "2                 15.0                  54.0   0.9970  3.26       0.65   \n",
       "3                 17.0                  60.0   0.9980  3.16       0.58   \n",
       "4                 11.0                  34.0   0.9978  3.51       0.56   \n",
       "\n",
       "   alcohol  quality  \n",
       "0      9.4        5  \n",
       "1      9.8        5  \n",
       "2      9.8        5  \n",
       "3      9.8        6  \n",
       "4      9.4        5  "
      ]
     },
     "execution_count": 5,
     "metadata": {},
     "output_type": "execute_result"
    }
   ],
   "source": [
    "#########################\n",
    "# import data\n",
    "#########################\n",
    "\n",
    "link = \"http://archive.ics.uci.edu/ml/machine-learning-databases/wine-quality/winequality-red.csv\"\n",
    "urlretrieve(link, 'winequality-red.csv')\n",
    "df = pd.read_csv('winequality-red.csv', sep=';')\n",
    "df.head()"
   ]
  },
  {
   "cell_type": "code",
   "execution_count": 6,
   "metadata": {},
   "outputs": [
    {
     "data": {
      "text/html": [
       "<div>\n",
       "<style scoped>\n",
       "    .dataframe tbody tr th:only-of-type {\n",
       "        vertical-align: middle;\n",
       "    }\n",
       "\n",
       "    .dataframe tbody tr th {\n",
       "        vertical-align: top;\n",
       "    }\n",
       "\n",
       "    .dataframe thead th {\n",
       "        text-align: right;\n",
       "    }\n",
       "</style>\n",
       "<table border=\"1\" class=\"dataframe\">\n",
       "  <thead>\n",
       "    <tr style=\"text-align: right;\">\n",
       "      <th></th>\n",
       "      <th>fixed acidity</th>\n",
       "    </tr>\n",
       "    <tr>\n",
       "      <th>quality</th>\n",
       "      <th></th>\n",
       "    </tr>\n",
       "  </thead>\n",
       "  <tbody>\n",
       "    <tr>\n",
       "      <th>3</th>\n",
       "      <td>8.360000</td>\n",
       "    </tr>\n",
       "    <tr>\n",
       "      <th>4</th>\n",
       "      <td>7.779245</td>\n",
       "    </tr>\n",
       "    <tr>\n",
       "      <th>5</th>\n",
       "      <td>8.167254</td>\n",
       "    </tr>\n",
       "    <tr>\n",
       "      <th>6</th>\n",
       "      <td>8.347179</td>\n",
       "    </tr>\n",
       "    <tr>\n",
       "      <th>7</th>\n",
       "      <td>8.872362</td>\n",
       "    </tr>\n",
       "    <tr>\n",
       "      <th>8</th>\n",
       "      <td>8.566667</td>\n",
       "    </tr>\n",
       "  </tbody>\n",
       "</table>\n",
       "</div>"
      ],
      "text/plain": [
       "         fixed acidity\n",
       "quality               \n",
       "3             8.360000\n",
       "4             7.779245\n",
       "5             8.167254\n",
       "6             8.347179\n",
       "7             8.872362\n",
       "8             8.566667"
      ]
     },
     "execution_count": 6,
     "metadata": {},
     "output_type": "execute_result"
    }
   ],
   "source": [
    "#########################\n",
    "# ETL                   #       \n",
    "#########################\n",
    "\n",
    "# show column names\n",
    "df.columns\n",
    "# examine top 10 rows\n",
    "df.head()\n",
    "# number or rows and columns\n",
    "df.shape\n",
    "# simple summary table\n",
    "df.pivot_table(values=[\"fixed acidity\"], index=[\"quality\"], aggfunc=np.mean)\n"
   ]
  },
  {
   "cell_type": "code",
   "execution_count": 7,
   "metadata": {},
   "outputs": [
    {
     "data": {
      "text/html": [
       "<div>\n",
       "<style scoped>\n",
       "    .dataframe tbody tr th:only-of-type {\n",
       "        vertical-align: middle;\n",
       "    }\n",
       "\n",
       "    .dataframe tbody tr th {\n",
       "        vertical-align: top;\n",
       "    }\n",
       "\n",
       "    .dataframe thead th {\n",
       "        text-align: right;\n",
       "    }\n",
       "</style>\n",
       "<table border=\"1\" class=\"dataframe\">\n",
       "  <thead>\n",
       "    <tr style=\"text-align: right;\">\n",
       "      <th>pH</th>\n",
       "      <th>2.74</th>\n",
       "      <th>2.86</th>\n",
       "      <th>2.87</th>\n",
       "      <th>2.88</th>\n",
       "      <th>2.89</th>\n",
       "      <th>2.9</th>\n",
       "      <th>2.92</th>\n",
       "      <th>2.93</th>\n",
       "      <th>2.94</th>\n",
       "      <th>2.95</th>\n",
       "      <th>...</th>\n",
       "      <th>3.7</th>\n",
       "      <th>3.71</th>\n",
       "      <th>3.72</th>\n",
       "      <th>3.74</th>\n",
       "      <th>3.75</th>\n",
       "      <th>3.78</th>\n",
       "      <th>3.85</th>\n",
       "      <th>3.9</th>\n",
       "      <th>4.01</th>\n",
       "      <th>All</th>\n",
       "    </tr>\n",
       "    <tr>\n",
       "      <th>quality</th>\n",
       "      <th></th>\n",
       "      <th></th>\n",
       "      <th></th>\n",
       "      <th></th>\n",
       "      <th></th>\n",
       "      <th></th>\n",
       "      <th></th>\n",
       "      <th></th>\n",
       "      <th></th>\n",
       "      <th></th>\n",
       "      <th></th>\n",
       "      <th></th>\n",
       "      <th></th>\n",
       "      <th></th>\n",
       "      <th></th>\n",
       "      <th></th>\n",
       "      <th></th>\n",
       "      <th></th>\n",
       "      <th></th>\n",
       "      <th></th>\n",
       "      <th></th>\n",
       "    </tr>\n",
       "  </thead>\n",
       "  <tbody>\n",
       "    <tr>\n",
       "      <th>3</th>\n",
       "      <td>0</td>\n",
       "      <td>0</td>\n",
       "      <td>0</td>\n",
       "      <td>0</td>\n",
       "      <td>0</td>\n",
       "      <td>0</td>\n",
       "      <td>0</td>\n",
       "      <td>0</td>\n",
       "      <td>0</td>\n",
       "      <td>0</td>\n",
       "      <td>...</td>\n",
       "      <td>0</td>\n",
       "      <td>0</td>\n",
       "      <td>0</td>\n",
       "      <td>0</td>\n",
       "      <td>0</td>\n",
       "      <td>0</td>\n",
       "      <td>0</td>\n",
       "      <td>0</td>\n",
       "      <td>0</td>\n",
       "      <td>10</td>\n",
       "    </tr>\n",
       "    <tr>\n",
       "      <th>4</th>\n",
       "      <td>1</td>\n",
       "      <td>0</td>\n",
       "      <td>0</td>\n",
       "      <td>0</td>\n",
       "      <td>0</td>\n",
       "      <td>0</td>\n",
       "      <td>0</td>\n",
       "      <td>0</td>\n",
       "      <td>0</td>\n",
       "      <td>0</td>\n",
       "      <td>...</td>\n",
       "      <td>0</td>\n",
       "      <td>0</td>\n",
       "      <td>0</td>\n",
       "      <td>0</td>\n",
       "      <td>1</td>\n",
       "      <td>0</td>\n",
       "      <td>0</td>\n",
       "      <td>1</td>\n",
       "      <td>0</td>\n",
       "      <td>53</td>\n",
       "    </tr>\n",
       "    <tr>\n",
       "      <th>5</th>\n",
       "      <td>0</td>\n",
       "      <td>0</td>\n",
       "      <td>0</td>\n",
       "      <td>1</td>\n",
       "      <td>2</td>\n",
       "      <td>0</td>\n",
       "      <td>3</td>\n",
       "      <td>1</td>\n",
       "      <td>2</td>\n",
       "      <td>0</td>\n",
       "      <td>...</td>\n",
       "      <td>0</td>\n",
       "      <td>0</td>\n",
       "      <td>2</td>\n",
       "      <td>1</td>\n",
       "      <td>0</td>\n",
       "      <td>0</td>\n",
       "      <td>0</td>\n",
       "      <td>0</td>\n",
       "      <td>0</td>\n",
       "      <td>681</td>\n",
       "    </tr>\n",
       "    <tr>\n",
       "      <th>6</th>\n",
       "      <td>0</td>\n",
       "      <td>1</td>\n",
       "      <td>1</td>\n",
       "      <td>0</td>\n",
       "      <td>2</td>\n",
       "      <td>1</td>\n",
       "      <td>0</td>\n",
       "      <td>2</td>\n",
       "      <td>2</td>\n",
       "      <td>0</td>\n",
       "      <td>...</td>\n",
       "      <td>1</td>\n",
       "      <td>1</td>\n",
       "      <td>0</td>\n",
       "      <td>0</td>\n",
       "      <td>0</td>\n",
       "      <td>1</td>\n",
       "      <td>1</td>\n",
       "      <td>1</td>\n",
       "      <td>2</td>\n",
       "      <td>638</td>\n",
       "    </tr>\n",
       "    <tr>\n",
       "      <th>7</th>\n",
       "      <td>0</td>\n",
       "      <td>0</td>\n",
       "      <td>0</td>\n",
       "      <td>0</td>\n",
       "      <td>0</td>\n",
       "      <td>0</td>\n",
       "      <td>1</td>\n",
       "      <td>0</td>\n",
       "      <td>0</td>\n",
       "      <td>1</td>\n",
       "      <td>...</td>\n",
       "      <td>0</td>\n",
       "      <td>3</td>\n",
       "      <td>0</td>\n",
       "      <td>0</td>\n",
       "      <td>0</td>\n",
       "      <td>1</td>\n",
       "      <td>0</td>\n",
       "      <td>0</td>\n",
       "      <td>0</td>\n",
       "      <td>199</td>\n",
       "    </tr>\n",
       "    <tr>\n",
       "      <th>8</th>\n",
       "      <td>0</td>\n",
       "      <td>0</td>\n",
       "      <td>0</td>\n",
       "      <td>1</td>\n",
       "      <td>0</td>\n",
       "      <td>0</td>\n",
       "      <td>0</td>\n",
       "      <td>0</td>\n",
       "      <td>0</td>\n",
       "      <td>0</td>\n",
       "      <td>...</td>\n",
       "      <td>0</td>\n",
       "      <td>0</td>\n",
       "      <td>1</td>\n",
       "      <td>0</td>\n",
       "      <td>0</td>\n",
       "      <td>0</td>\n",
       "      <td>0</td>\n",
       "      <td>0</td>\n",
       "      <td>0</td>\n",
       "      <td>18</td>\n",
       "    </tr>\n",
       "    <tr>\n",
       "      <th>All</th>\n",
       "      <td>1</td>\n",
       "      <td>1</td>\n",
       "      <td>1</td>\n",
       "      <td>2</td>\n",
       "      <td>4</td>\n",
       "      <td>1</td>\n",
       "      <td>4</td>\n",
       "      <td>3</td>\n",
       "      <td>4</td>\n",
       "      <td>1</td>\n",
       "      <td>...</td>\n",
       "      <td>1</td>\n",
       "      <td>4</td>\n",
       "      <td>3</td>\n",
       "      <td>1</td>\n",
       "      <td>1</td>\n",
       "      <td>2</td>\n",
       "      <td>1</td>\n",
       "      <td>2</td>\n",
       "      <td>2</td>\n",
       "      <td>1599</td>\n",
       "    </tr>\n",
       "  </tbody>\n",
       "</table>\n",
       "<p>7 rows × 90 columns</p>\n",
       "</div>"
      ],
      "text/plain": [
       "pH       2.74  2.86  2.87  2.88  2.89  2.9  2.92  2.93  2.94  2.95  ...  3.7  \\\n",
       "quality                                                             ...        \n",
       "3           0     0     0     0     0    0     0     0     0     0  ...    0   \n",
       "4           1     0     0     0     0    0     0     0     0     0  ...    0   \n",
       "5           0     0     0     1     2    0     3     1     2     0  ...    0   \n",
       "6           0     1     1     0     2    1     0     2     2     0  ...    1   \n",
       "7           0     0     0     0     0    0     1     0     0     1  ...    0   \n",
       "8           0     0     0     1     0    0     0     0     0     0  ...    0   \n",
       "All         1     1     1     2     4    1     4     3     4     1  ...    1   \n",
       "\n",
       "pH       3.71  3.72  3.74  3.75  3.78  3.85  3.9  4.01   All  \n",
       "quality                                                       \n",
       "3           0     0     0     0     0     0    0     0    10  \n",
       "4           0     0     0     1     0     0    1     0    53  \n",
       "5           0     2     1     0     0     0    0     0   681  \n",
       "6           1     0     0     0     1     1    1     2   638  \n",
       "7           3     0     0     0     1     0    0     0   199  \n",
       "8           0     1     0     0     0     0    0     0    18  \n",
       "All         4     3     1     1     2     1    2     2  1599  \n",
       "\n",
       "[7 rows x 90 columns]"
      ]
     },
     "execution_count": 7,
     "metadata": {},
     "output_type": "execute_result"
    }
   ],
   "source": [
    "# extract inputs\n",
    "df_inputs = df.iloc[:,0:11]\n",
    "# extract target/output\n",
    "df_target = df['quality']\n",
    "# summarize categories\n",
    "df_target = df_target.astype('category')\n",
    "# count the number of categories in quality\n",
    "pd.crosstab(df[\"quality\"],df[\"pH\"],margins=True)"
   ]
  },
  {
   "cell_type": "code",
   "execution_count": 8,
   "metadata": {},
   "outputs": [],
   "source": [
    "# remove spaces in column names\n",
    "\n",
    "df.rename(columns={'fixed acidity': 'fixed_acidity','volatile acidity':'volatile_acidity','citric acid':'citric_acid','residual sugar':'residual_sugar','free sulfur dioxide':'free_sulfur_dioxide','total sulfur dioxide':'total_sulfur_dioxide'}, inplace=True)"
   ]
  },
  {
   "cell_type": "code",
   "execution_count": 9,
   "metadata": {},
   "outputs": [
    {
     "data": {
      "image/png": "[encoded data removed]",
      "text/plain": [
       "<Figure size 432x288 with 1 Axes>"
      ]
     },
     "metadata": {
      "needs_background": "light"
     },
     "output_type": "display_data"
    }
   ],
   "source": [
    "#########################\n",
    "# EDA                   #       \n",
    "#########################\n",
    "\n",
    "df['quality'].hist(bins=12)\n",
    "plt.title(\"Quality Distribution\")\n",
    "plt.ylabel(\"Number\")\n",
    "plt.show()"
   ]
  },
  {
   "cell_type": "code",
   "execution_count": 10,
   "metadata": {},
   "outputs": [
    {
     "data": {
      "image/png": "[encoded data removed]",
      "text/plain": [
       "<Figure size 432x288 with 12 Axes>"
      ]
     },
     "metadata": {
      "needs_background": "light"
     },
     "output_type": "display_data"
    }
   ],
   "source": [
    "##########################\n",
    "# create histograms\n",
    "##########################\n",
    "\n",
    "df.hist(bins=10)\n",
    "plt.show()"
   ]
  },
  {
   "cell_type": "code",
   "execution_count": 11,
   "metadata": {},
   "outputs": [
    {
     "data": {
      "image/png": "[encoded data removed]",
      "text/plain": [
       "<Figure size 432x288 with 144 Axes>"
      ]
     },
     "metadata": {
      "needs_background": "light"
     },
     "output_type": "display_data"
    }
   ],
   "source": [
    "###############################\n",
    "# Scatter plot \n",
    "# this is nonsense (need to increase view)\n",
    "###############################\n",
    "\n",
    "pd.plotting.scatter_matrix(df, alpha=0.2)\n",
    "plt.tight_layout()\n",
    "\n",
    "# plt.savefig('scatter_matrix.png')"
   ]
  },
  {
   "cell_type": "code",
   "execution_count": 12,
   "metadata": {},
   "outputs": [
    {
     "data": {
      "image/png": "[encoded data removed]",
      "text/plain": [
       "<Figure size 432x288 with 1 Axes>"
      ]
     },
     "metadata": {
      "needs_background": "light"
     },
     "output_type": "display_data"
    }
   ],
   "source": [
    "##############################\n",
    "# pick out a single plot\n",
    "# (update with javascript)\n",
    "##############################\n",
    "\n",
    "plt.scatter(df['density'], df['residual_sugar'])\n",
    "plt.title(\"Density v. Residual Sugar\")\n",
    "plt.xlabel(\"Density\")\n",
    "plt.ylabel(\"Residual Sugar\")\n",
    "plt.grid()\n",
    "plt.show()"
   ]
  },
  {
   "cell_type": "code",
   "execution_count": 13,
   "metadata": {},
   "outputs": [
    {
     "data": {
      "text/html": [
       "<div>\n",
       "<style scoped>\n",
       "    .dataframe tbody tr th:only-of-type {\n",
       "        vertical-align: middle;\n",
       "    }\n",
       "\n",
       "    .dataframe tbody tr th {\n",
       "        vertical-align: top;\n",
       "    }\n",
       "\n",
       "    .dataframe thead th {\n",
       "        text-align: right;\n",
       "    }\n",
       "</style>\n",
       "<table border=\"1\" class=\"dataframe\">\n",
       "  <thead>\n",
       "    <tr style=\"text-align: right;\">\n",
       "      <th></th>\n",
       "      <th>count</th>\n",
       "      <th>mean</th>\n",
       "      <th>std</th>\n",
       "      <th>min</th>\n",
       "      <th>25%</th>\n",
       "      <th>50%</th>\n",
       "      <th>75%</th>\n",
       "      <th>max</th>\n",
       "    </tr>\n",
       "  </thead>\n",
       "  <tbody>\n",
       "    <tr>\n",
       "      <th>fixed_acidity</th>\n",
       "      <td>1599.0</td>\n",
       "      <td>8.319637</td>\n",
       "      <td>1.741096</td>\n",
       "      <td>4.60000</td>\n",
       "      <td>7.1000</td>\n",
       "      <td>7.90000</td>\n",
       "      <td>9.200000</td>\n",
       "      <td>15.90000</td>\n",
       "    </tr>\n",
       "    <tr>\n",
       "      <th>volatile_acidity</th>\n",
       "      <td>1599.0</td>\n",
       "      <td>0.527821</td>\n",
       "      <td>0.179060</td>\n",
       "      <td>0.12000</td>\n",
       "      <td>0.3900</td>\n",
       "      <td>0.52000</td>\n",
       "      <td>0.640000</td>\n",
       "      <td>1.58000</td>\n",
       "    </tr>\n",
       "    <tr>\n",
       "      <th>citric_acid</th>\n",
       "      <td>1599.0</td>\n",
       "      <td>0.270976</td>\n",
       "      <td>0.194801</td>\n",
       "      <td>0.00000</td>\n",
       "      <td>0.0900</td>\n",
       "      <td>0.26000</td>\n",
       "      <td>0.420000</td>\n",
       "      <td>1.00000</td>\n",
       "    </tr>\n",
       "    <tr>\n",
       "      <th>residual_sugar</th>\n",
       "      <td>1599.0</td>\n",
       "      <td>2.538806</td>\n",
       "      <td>1.409928</td>\n",
       "      <td>0.90000</td>\n",
       "      <td>1.9000</td>\n",
       "      <td>2.20000</td>\n",
       "      <td>2.600000</td>\n",
       "      <td>15.50000</td>\n",
       "    </tr>\n",
       "    <tr>\n",
       "      <th>chlorides</th>\n",
       "      <td>1599.0</td>\n",
       "      <td>0.087467</td>\n",
       "      <td>0.047065</td>\n",
       "      <td>0.01200</td>\n",
       "      <td>0.0700</td>\n",
       "      <td>0.07900</td>\n",
       "      <td>0.090000</td>\n",
       "      <td>0.61100</td>\n",
       "    </tr>\n",
       "    <tr>\n",
       "      <th>free_sulfur_dioxide</th>\n",
       "      <td>1599.0</td>\n",
       "      <td>15.874922</td>\n",
       "      <td>10.460157</td>\n",
       "      <td>1.00000</td>\n",
       "      <td>7.0000</td>\n",
       "      <td>14.00000</td>\n",
       "      <td>21.000000</td>\n",
       "      <td>72.00000</td>\n",
       "    </tr>\n",
       "    <tr>\n",
       "      <th>total_sulfur_dioxide</th>\n",
       "      <td>1599.0</td>\n",
       "      <td>46.467792</td>\n",
       "      <td>32.895324</td>\n",
       "      <td>6.00000</td>\n",
       "      <td>22.0000</td>\n",
       "      <td>38.00000</td>\n",
       "      <td>62.000000</td>\n",
       "      <td>289.00000</td>\n",
       "    </tr>\n",
       "    <tr>\n",
       "      <th>density</th>\n",
       "      <td>1599.0</td>\n",
       "      <td>0.996747</td>\n",
       "      <td>0.001887</td>\n",
       "      <td>0.99007</td>\n",
       "      <td>0.9956</td>\n",
       "      <td>0.99675</td>\n",
       "      <td>0.997835</td>\n",
       "      <td>1.00369</td>\n",
       "    </tr>\n",
       "    <tr>\n",
       "      <th>pH</th>\n",
       "      <td>1599.0</td>\n",
       "      <td>3.311113</td>\n",
       "      <td>0.154386</td>\n",
       "      <td>2.74000</td>\n",
       "      <td>3.2100</td>\n",
       "      <td>3.31000</td>\n",
       "      <td>3.400000</td>\n",
       "      <td>4.01000</td>\n",
       "    </tr>\n",
       "    <tr>\n",
       "      <th>sulphates</th>\n",
       "      <td>1599.0</td>\n",
       "      <td>0.658149</td>\n",
       "      <td>0.169507</td>\n",
       "      <td>0.33000</td>\n",
       "      <td>0.5500</td>\n",
       "      <td>0.62000</td>\n",
       "      <td>0.730000</td>\n",
       "      <td>2.00000</td>\n",
       "    </tr>\n",
       "    <tr>\n",
       "      <th>alcohol</th>\n",
       "      <td>1599.0</td>\n",
       "      <td>10.422983</td>\n",
       "      <td>1.065668</td>\n",
       "      <td>8.40000</td>\n",
       "      <td>9.5000</td>\n",
       "      <td>10.20000</td>\n",
       "      <td>11.100000</td>\n",
       "      <td>14.90000</td>\n",
       "    </tr>\n",
       "    <tr>\n",
       "      <th>quality</th>\n",
       "      <td>1599.0</td>\n",
       "      <td>5.636023</td>\n",
       "      <td>0.807569</td>\n",
       "      <td>3.00000</td>\n",
       "      <td>5.0000</td>\n",
       "      <td>6.00000</td>\n",
       "      <td>6.000000</td>\n",
       "      <td>8.00000</td>\n",
       "    </tr>\n",
       "  </tbody>\n",
       "</table>\n",
       "</div>"
      ],
      "text/plain": [
       "                       count       mean        std      min      25%  \\\n",
       "fixed_acidity         1599.0   8.319637   1.741096  4.60000   7.1000   \n",
       "volatile_acidity      1599.0   0.527821   0.179060  0.12000   0.3900   \n",
       "citric_acid           1599.0   0.270976   0.194801  0.00000   0.0900   \n",
       "residual_sugar        1599.0   2.538806   1.409928  0.90000   1.9000   \n",
       "chlorides             1599.0   0.087467   0.047065  0.01200   0.0700   \n",
       "free_sulfur_dioxide   1599.0  15.874922  10.460157  1.00000   7.0000   \n",
       "total_sulfur_dioxide  1599.0  46.467792  32.895324  6.00000  22.0000   \n",
       "density               1599.0   0.996747   0.001887  0.99007   0.9956   \n",
       "pH                    1599.0   3.311113   0.154386  2.74000   3.2100   \n",
       "sulphates             1599.0   0.658149   0.169507  0.33000   0.5500   \n",
       "alcohol               1599.0  10.422983   1.065668  8.40000   9.5000   \n",
       "quality               1599.0   5.636023   0.807569  3.00000   5.0000   \n",
       "\n",
       "                           50%        75%        max  \n",
       "fixed_acidity          7.90000   9.200000   15.90000  \n",
       "volatile_acidity       0.52000   0.640000    1.58000  \n",
       "citric_acid            0.26000   0.420000    1.00000  \n",
       "residual_sugar         2.20000   2.600000   15.50000  \n",
       "chlorides              0.07900   0.090000    0.61100  \n",
       "free_sulfur_dioxide   14.00000  21.000000   72.00000  \n",
       "total_sulfur_dioxide  38.00000  62.000000  289.00000  \n",
       "density                0.99675   0.997835    1.00369  \n",
       "pH                     3.31000   3.400000    4.01000  \n",
       "sulphates              0.62000   0.730000    2.00000  \n",
       "alcohol               10.20000  11.100000   14.90000  \n",
       "quality                6.00000   6.000000    8.00000  "
      ]
     },
     "execution_count": 13,
     "metadata": {},
     "output_type": "execute_result"
    }
   ],
   "source": [
    "#########################\n",
    "# summarize             #       \n",
    "#########################\n",
    "\n",
    "# extract summary stats #\n",
    "\n",
    "list(np.transpose(df.describe()))\n",
    "\n",
    "np.transpose(df.describe())"
   ]
  },
  {
   "cell_type": "code",
   "execution_count": 14,
   "metadata": {},
   "outputs": [],
   "source": [
    "#########################\n",
    "# correlation           #       \n",
    "#########################\n",
    "\n",
    "# np.corrcoef(df).round(3)\n",
    "\n",
    "# wine_corr = df.corr()\n",
    "\n",
    "# abs(wine_corr) > .5\n"
   ]
  },
  {
   "cell_type": "code",
   "execution_count": 15,
   "metadata": {},
   "outputs": [],
   "source": [
    "##########################\n",
    "# example of df\n",
    "##########################\n",
    "\n",
    "# pd.DataFrame(wine_corr['quality'])"
   ]
  },
  {
   "cell_type": "code",
   "execution_count": 16,
   "metadata": {},
   "outputs": [],
   "source": [
    "#########################\n",
    "# heatmap               #       \n",
    "#########################\n",
    "\n",
    "# sns.heatmap(wine_corr, xticklabels=wine_corr.columns, yticklabels=wine_corr.columns)"
   ]
  },
  {
   "cell_type": "code",
   "execution_count": 17,
   "metadata": {},
   "outputs": [
    {
     "name": "stdout",
     "output_type": "stream",
     "text": [
      "                            OLS Regression Results                            \n",
      "==============================================================================\n",
      "Dep. Variable:                quality   R-squared:                       0.360\n",
      "Model:                            OLS   Adj. R-squared:                  0.356\n",
      "Method:                 Least Squares   F-statistic:                     89.39\n",
      "Date:                Thu, 05 Oct 2023   Prob (F-statistic):          2.92e-146\n",
      "Time:                        09:18:26   Log-Likelihood:                -1569.6\n",
      "No. Observations:                1599   AIC:                             3161.\n",
      "Df Residuals:                    1588   BIC:                             3220.\n",
      "Df Model:                          10                                         \n",
      "Covariance Type:            nonrobust                                         \n",
      "========================================================================================\n",
      "                           coef    std err          t      P>|t|      [0.025      0.975]\n",
      "----------------------------------------------------------------------------------------\n",
      "Intercept                6.1796     13.437      0.460      0.646     -20.176      32.535\n",
      "volatile_acidity        -1.0778      0.121     -8.911      0.000      -1.315      -0.841\n",
      "citric_acid             -0.1353      0.139     -0.975      0.330      -0.407       0.137\n",
      "residual_sugar           0.0101      0.014      0.746      0.456      -0.016       0.037\n",
      "chlorides               -1.9685      0.408     -4.828      0.000      -2.768      -1.169\n",
      "free_sulfur_dioxide      0.0046      0.002      2.128      0.034       0.000       0.009\n",
      "total_sulfur_dioxide    -0.0034      0.001     -4.835      0.000      -0.005      -0.002\n",
      "density                 -1.5167     13.389     -0.113      0.910     -27.779      24.745\n",
      "pH                      -0.5462      0.133     -4.099      0.000      -0.808      -0.285\n",
      "alcohol                  0.2901      0.022     13.047      0.000       0.246       0.334\n",
      "sulphates                0.8996      0.113      7.961      0.000       0.678       1.121\n",
      "==============================================================================\n",
      "Omnibus:                       25.101   Durbin-Watson:                   1.752\n",
      "Prob(Omnibus):                  0.000   Jarque-Bera (JB):               36.849\n",
      "Skew:                          -0.159   Prob(JB):                     9.96e-09\n",
      "Kurtosis:                       3.672   Cond. No.                     7.04e+04\n",
      "==============================================================================\n",
      "\n",
      "Notes:\n",
      "[1] Standard Errors assume that the covariance matrix of the errors is correctly specified.\n",
      "[2] The condition number is large, 7.04e+04. This might indicate that there are\n",
      "strong multicollinearity or other numerical problems.\n"
     ]
    }
   ],
   "source": [
    "#########################\n",
    "# Classifier 1          #       \n",
    "#########################\n",
    "\n",
    "train, test = train_test_split(df, test_size=0.3, random_state=3)\n",
    "\n",
    "result = smf.ols('quality ~ volatile_acidity + citric_acid + residual_sugar + chlorides + free_sulfur_dioxide + total_sulfur_dioxide + density + pH  + alcohol + sulphates ', data=df).fit()\n",
    "\n",
    "print(result.summary())"
   ]
  },
  {
   "cell_type": "code",
   "execution_count": 18,
   "metadata": {},
   "outputs": [],
   "source": [
    "###################################\n",
    "# define input and output\n",
    "###################################\n",
    "\n",
    "y = train[\"quality\"]\n",
    "cols = [\"fixed_acidity\",\"volatile_acidity\",\"citric_acid\",\"residual_sugar\",\"chlorides\",\"free_sulfur_dioxide\",\"total_sulfur_dioxide\",\"density\",\"pH\",\"alcohol\",\"sulphates\"]\n",
    "\n",
    "x = train[cols]"
   ]
  },
  {
   "cell_type": "code",
   "execution_count": 19,
   "metadata": {},
   "outputs": [
    {
     "name": "stdout",
     "output_type": "stream",
     "text": [
      "Training MSE: 0.427\n"
     ]
    },
    {
     "data": {
      "image/png": "[encoded data removed]",
      "text/plain": [
       "<Figure size 432x288 with 1 Axes>"
      ]
     },
     "metadata": {
      "needs_background": "light"
     },
     "output_type": "display_data"
    }
   ],
   "source": [
    "###################################\n",
    "# build linear model\n",
    "# need multinomial\n",
    "###################################\n",
    "\n",
    "regr = linear_model.LinearRegression()\n",
    "regr.fit(x,y)\n",
    "\n",
    "ytrain_pred = regr.predict(x)\n",
    "print(\"Training MSE: %.3f\" % mean_squared_error(y, ytrain_pred))\n",
    "\n",
    "errors = ytrain_pred.round() - y\n",
    "errors.hist(bins=10)\n",
    "plt.xlabel(\"Predicted - Actual\")\n",
    "plt.show()\n"
   ]
  },
  {
   "cell_type": "code",
   "execution_count": 20,
   "metadata": {},
   "outputs": [
    {
     "name": "stdout",
     "output_type": "stream",
     "text": [
      "Test MSE: 0.399\n"
     ]
    }
   ],
   "source": [
    "#########################\n",
    "# now test on Test data #\n",
    "#########################\n",
    "\n",
    "y = test[\"quality\"]\n",
    "cols = [\"fixed_acidity\",\"volatile_acidity\",\"citric_acid\",\"residual_sugar\",\"chlorides\",\"free_sulfur_dioxide\",\"total_sulfur_dioxide\",\"density\",\"pH\",\"alcohol\",\"sulphates\"]\n",
    "\n",
    "x = test[cols]\n",
    "\n",
    "ytest_pred = regr.predict(x)\n",
    "print(\"Test MSE: %.3f\" % mean_squared_error(y, ytest_pred))"
   ]
  },
  {
   "cell_type": "code",
   "execution_count": 21,
   "metadata": {},
   "outputs": [
    {
     "data": {
      "text/plain": [
       "array([5.07737767, 5.62313018, 5.91339364, 6.13453284, 5.0016581 ,\n",
       "       5.47885097, 5.09337655, 6.16198997, 5.52123414, 5.78036195,\n",
       "       5.63155506, 5.18820486, 5.23523093, 5.30831149, 6.48948926,\n",
       "       5.0573124 , 5.86882766, 5.17679917, 6.0364562 , 6.35881473,\n",
       "       6.43071622, 5.49417011, 5.80922149, 4.92385599, 5.15391371,\n",
       "       5.48811568, 5.13400733, 6.54735867, 5.84318723, 5.77157885,\n",
       "       6.09469498, 6.28191996, 4.90895933, 5.89649747, 5.11476425,\n",
       "       5.96968746, 6.80341883, 4.98399305, 5.25205847, 5.89649747,\n",
       "       5.17919264, 4.84297383, 6.47176237, 5.42113637, 5.33000669,\n",
       "       5.82634125, 5.72937604, 5.26450724, 5.26636833, 5.48079868,\n",
       "       5.09635827, 5.57923024, 6.01312582, 6.31556425, 5.48251941,\n",
       "       5.39765225, 5.11607829, 4.88609692, 5.20505904, 5.0856538 ,\n",
       "       4.74852232, 5.42313207, 5.25426892, 5.68337336, 5.87471321,\n",
       "       6.52334011, 5.38384658, 5.72705863, 5.17366563, 5.97954014,\n",
       "       5.65425755, 5.62586836, 5.72802824, 5.26736526, 6.0028399 ,\n",
       "       5.50726603, 5.42024572, 5.643458  , 5.63415023, 5.77157885,\n",
       "       6.23384838, 5.29186209, 4.6290851 , 6.05216074, 5.5067671 ,\n",
       "       5.1666466 , 5.20785389, 5.94384233, 5.47731961, 5.66797649,\n",
       "       5.70489223, 5.66711952, 5.73346978, 5.30930835, 5.38525215,\n",
       "       5.4159086 , 4.77810638, 5.42780803, 5.50770681, 6.52712304,\n",
       "       6.14338605, 5.58781059, 6.05403331, 6.17486223, 5.75403772,\n",
       "       4.8878147 , 4.74604376, 5.01461361, 5.44849521, 5.7977842 ,\n",
       "       6.48420197, 5.49658667, 6.44837391, 5.93077782, 5.45834875,\n",
       "       5.22440493, 5.340332  , 5.22006951, 6.16822514, 5.63626112,\n",
       "       5.79580872, 5.20114462, 5.18918481, 5.28460438, 5.76340866,\n",
       "       5.66711952, 6.19626664, 5.90414756, 5.49955102, 5.41408986,\n",
       "       5.26346816, 5.41250945, 5.69814272, 5.69432651, 6.56897916,\n",
       "       5.91281726, 6.3356203 , 5.71076867, 5.40104227, 5.11611329,\n",
       "       5.57111251, 6.56755313, 5.25092655, 5.25026514, 5.55944101,\n",
       "       5.15564438, 5.77687937, 6.08953741, 6.93820078, 4.95514036,\n",
       "       5.0167541 , 4.67410429, 5.83601677, 4.98671874, 5.26736526,\n",
       "       5.71181397, 5.64589183, 5.3592643 , 5.19013668, 5.85568584,\n",
       "       5.63609753, 5.79542515, 5.50985264, 6.07550167, 5.65421194,\n",
       "       5.47223998, 5.96410213, 4.83768474, 5.26168532, 5.66156383,\n",
       "       5.73217636, 6.61175325, 5.01155909, 5.88563633, 5.86948117,\n",
       "       5.20491832, 5.68885386, 5.53816651, 5.42113637, 6.35196564,\n",
       "       6.70173674, 4.95807958, 5.89739884, 5.77392552, 5.75796308,\n",
       "       5.60533168, 5.71848582, 5.45107966, 6.0465139 , 5.57459033,\n",
       "       5.88077106, 6.50716349, 4.99174713, 5.40800171, 5.18347434,\n",
       "       5.17366563, 5.48251941, 5.76870491, 5.66615107, 4.93373445,\n",
       "       5.0966979 , 4.92164255, 6.18309155, 5.66481704, 5.45891744,\n",
       "       5.55816305, 5.0023086 , 5.85036124, 5.30043028, 5.4818038 ,\n",
       "       5.68561711, 5.69741269, 5.68614616, 5.84253568, 5.7983114 ,\n",
       "       6.05033893, 6.22268462, 5.24206255, 5.05316359, 5.25641338,\n",
       "       5.39848526, 5.0012314 , 6.21524563, 5.43170273, 5.9911252 ,\n",
       "       5.22986229, 6.62007308, 5.04410226, 5.31257505, 5.0040033 ,\n",
       "       6.16780791, 5.78023229, 4.84826426, 5.76385227, 5.31224728,\n",
       "       5.35754751, 5.1864778 , 6.30587374, 5.54541493, 4.95370839,\n",
       "       6.09078654, 6.04458608, 6.14121814, 5.41593523, 6.76617757,\n",
       "       6.1904715 , 6.08315494, 5.18868473, 5.4425711 , 5.54375184,\n",
       "       5.35754751, 5.25642683, 5.75316654, 5.26725769, 6.10777314,\n",
       "       5.4377793 , 5.88833156, 4.82748058, 6.05035669, 5.14839562,\n",
       "       6.44077179, 6.02709008, 5.74055835, 5.69814272, 4.89159877,\n",
       "       5.96733408, 5.26691201, 5.73323814, 5.40854604, 5.12412788,\n",
       "       6.46464953, 5.31109523, 5.98293511, 5.70177658, 6.48094555,\n",
       "       6.21255606, 5.08618336, 5.48970511, 5.31708003, 5.26035991,\n",
       "       6.3356203 , 5.36401742, 5.42289084, 5.97633923, 5.04762922,\n",
       "       5.93801541, 5.38361698, 5.16486002, 5.47026725, 5.90328463,\n",
       "       4.80180784, 6.83606397, 5.15592838, 4.94040141, 5.71582358,\n",
       "       5.70313833, 5.29240582, 6.27256004, 6.88828136, 6.57002296,\n",
       "       5.94961785, 6.30694221, 5.90373054, 5.54976101, 5.97407494,\n",
       "       5.52603955, 5.49822522, 5.75403772, 5.3027387 , 5.16508787,\n",
       "       6.24077119, 5.29401051, 6.19718998, 6.10521907, 5.86121475,\n",
       "       5.46253939, 4.84587091, 6.04694243, 5.25224817, 5.13698437,\n",
       "       6.46450325, 5.47038561, 6.7387008 , 5.07545367, 5.16306329,\n",
       "       5.30106764, 5.6674612 , 5.12340714, 5.5368018 , 5.30249966,\n",
       "       5.15662479, 4.9593713 , 5.48908653, 5.35231729, 5.36136047,\n",
       "       5.16625989, 6.12623061, 5.65867363, 5.75132044, 6.35217369,\n",
       "       5.93497678, 5.53816651, 5.69473549, 5.12223998, 5.7402165 ,\n",
       "       6.35626818, 6.17719602, 5.48074086, 6.09530906, 5.55329112,\n",
       "       6.23154975, 5.26035991, 5.55797177, 5.06628635, 4.98132979,\n",
       "       5.08216784, 5.80576332, 5.41341505, 5.9404272 , 5.17025012,\n",
       "       6.50477228, 5.40866355, 5.478463  , 5.64763374, 5.52253681,\n",
       "       5.25439482, 6.48094555, 5.81843822, 5.04455689, 5.25779607,\n",
       "       5.48160665, 5.31142546, 5.53014824, 5.06111974, 5.30062346,\n",
       "       5.45433371, 5.36444432, 6.10865121, 4.96577698, 5.31708003,\n",
       "       6.11074625, 5.22440493, 5.11243273, 4.60637626, 6.14900494,\n",
       "       6.16773953, 6.47629018, 5.75979567, 5.76385227, 6.3736026 ,\n",
       "       6.13968694, 5.84318723, 6.06085173, 6.02176702, 5.38034458,\n",
       "       5.42498445, 5.63056049, 5.39370211, 5.78808176, 5.26385228,\n",
       "       5.34270211, 5.35262945, 5.93016045, 5.94395588, 6.54986518,\n",
       "       5.37678556, 6.70866367, 5.42024572, 5.63482725, 4.8878147 ,\n",
       "       5.74572278, 4.96898056, 6.05416587, 5.17054263, 4.87600708,\n",
       "       5.18206484, 5.87369743, 5.17923916, 4.84220972, 5.57280097,\n",
       "       6.16176757, 5.33000669, 6.34106334, 5.19013668, 5.33131066,\n",
       "       5.19622476, 5.68143331, 4.96197677, 6.39109215, 5.54128759,\n",
       "       5.84409957, 5.98765936, 5.59969198, 4.84690496, 5.80574189,\n",
       "       5.48114324, 5.58196079, 5.41087814, 5.28154518, 6.41109651,\n",
       "       4.80977479, 5.14196868, 6.09224043, 6.44132161, 5.58392724,\n",
       "       5.63779796, 5.62242322, 5.1096744 , 4.96390548, 6.79191966,\n",
       "       5.41408986, 5.40788777, 6.49812216, 5.06154065, 6.70173674,\n",
       "       5.70159012, 5.11611329, 5.50795967, 5.35262945, 5.26564968,\n",
       "       5.93327587, 6.20539676, 5.53131201, 6.42504871, 5.0718827 ,\n",
       "       5.39037437, 5.62730197, 6.07869239, 6.57008644, 5.15548238,\n",
       "       6.22587646, 5.09162061, 5.48817446, 5.27127812, 5.20491832,\n",
       "       5.77360268, 6.92967907, 6.14145789, 5.38035545, 5.85212634])"
      ]
     },
     "execution_count": 21,
     "metadata": {},
     "output_type": "execute_result"
    }
   ],
   "source": [
    "ytest_pred\n"
   ]
  },
  {
   "cell_type": "code",
   "execution_count": 22,
   "metadata": {},
   "outputs": [
    {
     "data": {
      "image/png": "[encoded data removed]",
      "text/plain": [
       "<Figure size 432x288 with 1 Axes>"
      ]
     },
     "metadata": {
      "needs_background": "light"
     },
     "output_type": "display_data"
    },
    {
     "data": {
      "image/png": "[encoded data removed]",
      "text/plain": [
       "<Figure size 432x288 with 1 Axes>"
      ]
     },
     "metadata": {
      "needs_background": "light"
     },
     "output_type": "display_data"
    },
    {
     "data": {
      "image/png": "[encoded data removed]",
      "text/plain": [
       "<Figure size 432x288 with 1 Axes>"
      ]
     },
     "metadata": {
      "needs_background": "light"
     },
     "output_type": "display_data"
    }
   ],
   "source": [
    "########################################################################\n",
    "# object is to decrease MSE across models #\n",
    "# to measure performance of this model need ROC, classification matrix #\n",
    "# lets plot observed -  expected for this exercise #\n",
    "########################################################################\n",
    "\n",
    "plt.scatter(y, ytest_pred)\n",
    "plt.title(\"Observerd v. Predicted\")\n",
    "plt.xlabel(\"Observed\")\n",
    "plt.ylabel(\"Predicted\")\n",
    "plt.grid()\n",
    "plt.show()\n",
    "\n",
    "plt.scatter(y, ytest_pred.round() - y, alpha=0.5)\n",
    "plt.title(\"Observerd v. Expected\")\n",
    "plt.xlabel(\"Observed\")\n",
    "plt.ylabel(\"Rounding Difference\")\n",
    "plt.grid()\n",
    "plt.show()\n",
    "\n",
    "errors = ytest_pred.round() - y\n",
    "errors.hist(bins=10)\n",
    "plt.grid()\n",
    "plt.show()\n"
   ]
  },
  {
   "cell_type": "code",
   "execution_count": 23,
   "metadata": {},
   "outputs": [],
   "source": [
    "# Separating out the features\n",
    "x = df_inputs.values\n",
    "# Separating out the target\n",
    "y = df_target.values\n",
    "# Standardizing the features\n",
    "x = StandardScaler().fit_transform(x)\n",
    "\n",
    "pca = PCA(n_components=2)\n",
    "prinComp = pca.fit_transform(x)\n",
    "prinDf = pd.DataFrame(data = prinComp , columns = ['principal component 1', 'principal component 2'])\n",
    "\n",
    "prinDfFinal = pd.concat([prinDf, df[['quality']]], axis = 1)"
   ]
  },
  {
   "cell_type": "code",
   "execution_count": 24,
   "metadata": {},
   "outputs": [
    {
     "name": "stderr",
     "output_type": "stream",
     "text": [
      "No artists with labels found to put in legend.  Note that artists whose label start with an underscore are ignored when legend() is called with no argument.\n"
     ]
    },
    {
     "data": {
      "text/plain": [
       "<matplotlib.legend.Legend at 0x16d1abf70>"
      ]
     },
     "execution_count": 24,
     "metadata": {},
     "output_type": "execute_result"
    },
    {
     "data": {
      "image/png": "[encoded data removed]",
      "text/plain": [
       "<Figure size 576x576 with 1 Axes>"
      ]
     },
     "metadata": {
      "needs_background": "light"
     },
     "output_type": "display_data"
    }
   ],
   "source": [
    "#########################\n",
    "# princomp              #       \n",
    "#########################\n",
    "\n",
    "# Separating out the features\n",
    "x = df_inputs.values\n",
    "# Separating out the target\n",
    "y = df_target.values\n",
    "# Standardizing the features\n",
    "x = StandardScaler().fit_transform(x)\n",
    "\n",
    "pca = PCA(n_components=2)\n",
    "prinComp = pca.fit_transform(x)\n",
    "prinDf = pd.DataFrame(data = prinComp , columns = ['principal component 1', 'principal component 2'])\n",
    "\n",
    "prinDfFinal = pd.concat([prinDf, df[['quality']]], axis = 1)\n",
    "\n",
    "fig = plt.figure(figsize = (8,8))\n",
    "ax = fig.add_subplot(1,1,1) \n",
    "ax.set_xlabel('Principal Component 1', fontsize = 15)\n",
    "ax.set_ylabel('Principal Component 2', fontsize = 15)\n",
    "ax.set_title('2 component PCA', fontsize = 20)\n",
    "\n",
    "targets = [3,4,5,6,7,8]\n",
    "colors = ['r', 'g', 'b','y','o']\n",
    "for targets, color in zip(targets,colors):\n",
    "    indicesToKeep = prinDfFinal['quality'] == targets\n",
    "    ax.scatter(prinDfFinal.loc[indicesToKeep, 'principal component 1']\n",
    "               , prinDfFinal.loc[indicesToKeep, 'principal component 2']\n",
    "               # , c = color\n",
    "               , s = 50)\n",
    "    \n",
    "# pca.explained_variance_ratio_\n",
    "plt.legend(loc='upper left', frameon=True)\n",
    "# plt.grid()"
   ]
  },
  {
   "cell_type": "code",
   "execution_count": 25,
   "metadata": {},
   "outputs": [],
   "source": [
    "##########################################\n",
    "# let's do my woe package\n",
    "# convert continuous to discrete\n",
    "# this is for the woe analysis\n",
    "##########################################\n",
    "\n",
    "x=pd.DataFrame(x)\n",
    "x.columns=cols\n",
    "\n",
    "# df.head()\n",
    "# df['quality'].astype('int64')\n"
   ]
  },
  {
   "cell_type": "code",
   "execution_count": 26,
   "metadata": {},
   "outputs": [],
   "source": [
    "x_disc=x.apply(pd.cut, bins=2)"
   ]
  },
  {
   "cell_type": "code",
   "execution_count": 27,
   "metadata": {},
   "outputs": [
    {
     "data": {
      "text/html": [
       "<div>\n",
       "<style scoped>\n",
       "    .dataframe tbody tr th:only-of-type {\n",
       "        vertical-align: middle;\n",
       "    }\n",
       "\n",
       "    .dataframe tbody tr th {\n",
       "        vertical-align: top;\n",
       "    }\n",
       "\n",
       "    .dataframe thead th {\n",
       "        text-align: right;\n",
       "    }\n",
       "</style>\n",
       "<table border=\"1\" class=\"dataframe\">\n",
       "  <thead>\n",
       "    <tr style=\"text-align: right;\">\n",
       "      <th></th>\n",
       "      <th>fixed_acidity</th>\n",
       "      <th>volatile_acidity</th>\n",
       "      <th>citric_acid</th>\n",
       "      <th>residual_sugar</th>\n",
       "      <th>chlorides</th>\n",
       "      <th>free_sulfur_dioxide</th>\n",
       "      <th>total_sulfur_dioxide</th>\n",
       "      <th>density</th>\n",
       "      <th>pH</th>\n",
       "      <th>alcohol</th>\n",
       "      <th>sulphates</th>\n",
       "    </tr>\n",
       "  </thead>\n",
       "  <tbody>\n",
       "    <tr>\n",
       "      <th>0</th>\n",
       "      <td>(-2.144, 1.109]</td>\n",
       "      <td>(-2.286, 1.8]</td>\n",
       "      <td>(-1.397, 1.176]</td>\n",
       "      <td>(-1.173, 4.016]</td>\n",
       "      <td>(-1.617, 4.762]</td>\n",
       "      <td>(-1.429, 1.972]</td>\n",
       "      <td>(-1.239, 3.072]</td>\n",
       "      <td>(0.0707, 3.68]</td>\n",
       "      <td>(0.414, 4.528]</td>\n",
       "      <td>(-1.946, 2.991]</td>\n",
       "      <td>(-1.905, 1.152]</td>\n",
       "    </tr>\n",
       "    <tr>\n",
       "      <th>1</th>\n",
       "      <td>(-2.144, 1.109]</td>\n",
       "      <td>(1.8, 5.878]</td>\n",
       "      <td>(-1.397, 1.176]</td>\n",
       "      <td>(-1.173, 4.016]</td>\n",
       "      <td>(-1.617, 4.762]</td>\n",
       "      <td>(-1.429, 1.972]</td>\n",
       "      <td>(-1.239, 3.072]</td>\n",
       "      <td>(-3.546, 0.0707]</td>\n",
       "      <td>(-3.709, 0.414]</td>\n",
       "      <td>(-1.946, 2.991]</td>\n",
       "      <td>(-1.905, 1.152]</td>\n",
       "    </tr>\n",
       "    <tr>\n",
       "      <th>2</th>\n",
       "      <td>(-2.144, 1.109]</td>\n",
       "      <td>(-2.286, 1.8]</td>\n",
       "      <td>(-1.397, 1.176]</td>\n",
       "      <td>(-1.173, 4.016]</td>\n",
       "      <td>(-1.617, 4.762]</td>\n",
       "      <td>(-1.429, 1.972]</td>\n",
       "      <td>(-1.239, 3.072]</td>\n",
       "      <td>(0.0707, 3.68]</td>\n",
       "      <td>(-3.709, 0.414]</td>\n",
       "      <td>(-1.946, 2.991]</td>\n",
       "      <td>(-1.905, 1.152]</td>\n",
       "    </tr>\n",
       "    <tr>\n",
       "      <th>3</th>\n",
       "      <td>(1.109, 4.355]</td>\n",
       "      <td>(-2.286, 1.8]</td>\n",
       "      <td>(1.176, 3.744]</td>\n",
       "      <td>(-1.173, 4.016]</td>\n",
       "      <td>(-1.617, 4.762]</td>\n",
       "      <td>(-1.429, 1.972]</td>\n",
       "      <td>(-1.239, 3.072]</td>\n",
       "      <td>(0.0707, 3.68]</td>\n",
       "      <td>(-3.709, 0.414]</td>\n",
       "      <td>(-1.946, 2.991]</td>\n",
       "      <td>(-1.905, 1.152]</td>\n",
       "    </tr>\n",
       "    <tr>\n",
       "      <th>4</th>\n",
       "      <td>(-2.144, 1.109]</td>\n",
       "      <td>(-2.286, 1.8]</td>\n",
       "      <td>(-1.397, 1.176]</td>\n",
       "      <td>(-1.173, 4.016]</td>\n",
       "      <td>(-1.617, 4.762]</td>\n",
       "      <td>(-1.429, 1.972]</td>\n",
       "      <td>(-1.239, 3.072]</td>\n",
       "      <td>(0.0707, 3.68]</td>\n",
       "      <td>(0.414, 4.528]</td>\n",
       "      <td>(-1.946, 2.991]</td>\n",
       "      <td>(-1.905, 1.152]</td>\n",
       "    </tr>\n",
       "  </tbody>\n",
       "</table>\n",
       "</div>"
      ],
      "text/plain": [
       "     fixed_acidity volatile_acidity      citric_acid   residual_sugar  \\\n",
       "0  (-2.144, 1.109]    (-2.286, 1.8]  (-1.397, 1.176]  (-1.173, 4.016]   \n",
       "1  (-2.144, 1.109]     (1.8, 5.878]  (-1.397, 1.176]  (-1.173, 4.016]   \n",
       "2  (-2.144, 1.109]    (-2.286, 1.8]  (-1.397, 1.176]  (-1.173, 4.016]   \n",
       "3   (1.109, 4.355]    (-2.286, 1.8]   (1.176, 3.744]  (-1.173, 4.016]   \n",
       "4  (-2.144, 1.109]    (-2.286, 1.8]  (-1.397, 1.176]  (-1.173, 4.016]   \n",
       "\n",
       "         chlorides free_sulfur_dioxide total_sulfur_dioxide           density  \\\n",
       "0  (-1.617, 4.762]     (-1.429, 1.972]      (-1.239, 3.072]    (0.0707, 3.68]   \n",
       "1  (-1.617, 4.762]     (-1.429, 1.972]      (-1.239, 3.072]  (-3.546, 0.0707]   \n",
       "2  (-1.617, 4.762]     (-1.429, 1.972]      (-1.239, 3.072]    (0.0707, 3.68]   \n",
       "3  (-1.617, 4.762]     (-1.429, 1.972]      (-1.239, 3.072]    (0.0707, 3.68]   \n",
       "4  (-1.617, 4.762]     (-1.429, 1.972]      (-1.239, 3.072]    (0.0707, 3.68]   \n",
       "\n",
       "                pH          alcohol        sulphates  \n",
       "0   (0.414, 4.528]  (-1.946, 2.991]  (-1.905, 1.152]  \n",
       "1  (-3.709, 0.414]  (-1.946, 2.991]  (-1.905, 1.152]  \n",
       "2  (-3.709, 0.414]  (-1.946, 2.991]  (-1.905, 1.152]  \n",
       "3  (-3.709, 0.414]  (-1.946, 2.991]  (-1.905, 1.152]  \n",
       "4   (0.414, 4.528]  (-1.946, 2.991]  (-1.905, 1.152]  "
      ]
     },
     "execution_count": 27,
     "metadata": {},
     "output_type": "execute_result"
    }
   ],
   "source": [
    "x_disc.head()"
   ]
  },
  {
   "cell_type": "code",
   "execution_count": 28,
   "metadata": {},
   "outputs": [
    {
     "data": {
      "text/plain": [
       "fixed_acidity           category\n",
       "volatile_acidity        category\n",
       "citric_acid             category\n",
       "residual_sugar          category\n",
       "chlorides               category\n",
       "free_sulfur_dioxide     category\n",
       "total_sulfur_dioxide    category\n",
       "density                 category\n",
       "pH                      category\n",
       "alcohol                 category\n",
       "sulphates               category\n",
       "quality                    int64\n",
       "dtype: object"
      ]
     },
     "execution_count": 28,
     "metadata": {},
     "output_type": "execute_result"
    }
   ],
   "source": [
    "##########################################\n",
    "# let's do the woe analysis\n",
    "##########################################\n",
    "\n",
    "# convert text to number\n",
    "# (if needed)\n",
    "# df['quality_flt']=LabelEncoder().fit_transfrom(df.quality)\n",
    "\n",
    "x_disc['quality']=df['quality']\n",
    "x_disc.head()\n",
    "x_disc.dtypes\n",
    "\n",
    "\n"
   ]
  },
  {
   "cell_type": "code",
   "execution_count": 29,
   "metadata": {},
   "outputs": [
    {
     "data": {
      "text/html": [
       "<div>\n",
       "<style scoped>\n",
       "    .dataframe tbody tr th:only-of-type {\n",
       "        vertical-align: middle;\n",
       "    }\n",
       "\n",
       "    .dataframe tbody tr th {\n",
       "        vertical-align: top;\n",
       "    }\n",
       "\n",
       "    .dataframe thead th {\n",
       "        text-align: right;\n",
       "    }\n",
       "</style>\n",
       "<table border=\"1\" class=\"dataframe\">\n",
       "  <thead>\n",
       "    <tr style=\"text-align: right;\">\n",
       "      <th></th>\n",
       "      <th>fixed_acidity</th>\n",
       "      <th>volatile_acidity</th>\n",
       "      <th>citric_acid</th>\n",
       "      <th>residual_sugar</th>\n",
       "      <th>chlorides</th>\n",
       "      <th>free_sulfur_dioxide</th>\n",
       "      <th>total_sulfur_dioxide</th>\n",
       "      <th>density</th>\n",
       "      <th>pH</th>\n",
       "      <th>alcohol</th>\n",
       "      <th>sulphates</th>\n",
       "      <th>quality</th>\n",
       "    </tr>\n",
       "  </thead>\n",
       "  <tbody>\n",
       "    <tr>\n",
       "      <th>0</th>\n",
       "      <td>(-2.144, 1.109]</td>\n",
       "      <td>(-2.286, 1.8]</td>\n",
       "      <td>(-1.397, 1.176]</td>\n",
       "      <td>(-1.173, 4.016]</td>\n",
       "      <td>(-1.617, 4.762]</td>\n",
       "      <td>(-1.429, 1.972]</td>\n",
       "      <td>(-1.239, 3.072]</td>\n",
       "      <td>(0.0707, 3.68]</td>\n",
       "      <td>(0.414, 4.528]</td>\n",
       "      <td>(-1.946, 2.991]</td>\n",
       "      <td>(-1.905, 1.152]</td>\n",
       "      <td>5</td>\n",
       "    </tr>\n",
       "    <tr>\n",
       "      <th>1</th>\n",
       "      <td>(-2.144, 1.109]</td>\n",
       "      <td>(1.8, 5.878]</td>\n",
       "      <td>(-1.397, 1.176]</td>\n",
       "      <td>(-1.173, 4.016]</td>\n",
       "      <td>(-1.617, 4.762]</td>\n",
       "      <td>(-1.429, 1.972]</td>\n",
       "      <td>(-1.239, 3.072]</td>\n",
       "      <td>(-3.546, 0.0707]</td>\n",
       "      <td>(-3.709, 0.414]</td>\n",
       "      <td>(-1.946, 2.991]</td>\n",
       "      <td>(-1.905, 1.152]</td>\n",
       "      <td>5</td>\n",
       "    </tr>\n",
       "    <tr>\n",
       "      <th>2</th>\n",
       "      <td>(-2.144, 1.109]</td>\n",
       "      <td>(-2.286, 1.8]</td>\n",
       "      <td>(-1.397, 1.176]</td>\n",
       "      <td>(-1.173, 4.016]</td>\n",
       "      <td>(-1.617, 4.762]</td>\n",
       "      <td>(-1.429, 1.972]</td>\n",
       "      <td>(-1.239, 3.072]</td>\n",
       "      <td>(0.0707, 3.68]</td>\n",
       "      <td>(-3.709, 0.414]</td>\n",
       "      <td>(-1.946, 2.991]</td>\n",
       "      <td>(-1.905, 1.152]</td>\n",
       "      <td>5</td>\n",
       "    </tr>\n",
       "    <tr>\n",
       "      <th>3</th>\n",
       "      <td>(1.109, 4.355]</td>\n",
       "      <td>(-2.286, 1.8]</td>\n",
       "      <td>(1.176, 3.744]</td>\n",
       "      <td>(-1.173, 4.016]</td>\n",
       "      <td>(-1.617, 4.762]</td>\n",
       "      <td>(-1.429, 1.972]</td>\n",
       "      <td>(-1.239, 3.072]</td>\n",
       "      <td>(0.0707, 3.68]</td>\n",
       "      <td>(-3.709, 0.414]</td>\n",
       "      <td>(-1.946, 2.991]</td>\n",
       "      <td>(-1.905, 1.152]</td>\n",
       "      <td>6</td>\n",
       "    </tr>\n",
       "    <tr>\n",
       "      <th>4</th>\n",
       "      <td>(-2.144, 1.109]</td>\n",
       "      <td>(-2.286, 1.8]</td>\n",
       "      <td>(-1.397, 1.176]</td>\n",
       "      <td>(-1.173, 4.016]</td>\n",
       "      <td>(-1.617, 4.762]</td>\n",
       "      <td>(-1.429, 1.972]</td>\n",
       "      <td>(-1.239, 3.072]</td>\n",
       "      <td>(0.0707, 3.68]</td>\n",
       "      <td>(0.414, 4.528]</td>\n",
       "      <td>(-1.946, 2.991]</td>\n",
       "      <td>(-1.905, 1.152]</td>\n",
       "      <td>5</td>\n",
       "    </tr>\n",
       "  </tbody>\n",
       "</table>\n",
       "</div>"
      ],
      "text/plain": [
       "     fixed_acidity volatile_acidity      citric_acid   residual_sugar  \\\n",
       "0  (-2.144, 1.109]    (-2.286, 1.8]  (-1.397, 1.176]  (-1.173, 4.016]   \n",
       "1  (-2.144, 1.109]     (1.8, 5.878]  (-1.397, 1.176]  (-1.173, 4.016]   \n",
       "2  (-2.144, 1.109]    (-2.286, 1.8]  (-1.397, 1.176]  (-1.173, 4.016]   \n",
       "3   (1.109, 4.355]    (-2.286, 1.8]   (1.176, 3.744]  (-1.173, 4.016]   \n",
       "4  (-2.144, 1.109]    (-2.286, 1.8]  (-1.397, 1.176]  (-1.173, 4.016]   \n",
       "\n",
       "         chlorides free_sulfur_dioxide total_sulfur_dioxide           density  \\\n",
       "0  (-1.617, 4.762]     (-1.429, 1.972]      (-1.239, 3.072]    (0.0707, 3.68]   \n",
       "1  (-1.617, 4.762]     (-1.429, 1.972]      (-1.239, 3.072]  (-3.546, 0.0707]   \n",
       "2  (-1.617, 4.762]     (-1.429, 1.972]      (-1.239, 3.072]    (0.0707, 3.68]   \n",
       "3  (-1.617, 4.762]     (-1.429, 1.972]      (-1.239, 3.072]    (0.0707, 3.68]   \n",
       "4  (-1.617, 4.762]     (-1.429, 1.972]      (-1.239, 3.072]    (0.0707, 3.68]   \n",
       "\n",
       "                pH          alcohol        sulphates  quality  \n",
       "0   (0.414, 4.528]  (-1.946, 2.991]  (-1.905, 1.152]        5  \n",
       "1  (-3.709, 0.414]  (-1.946, 2.991]  (-1.905, 1.152]        5  \n",
       "2  (-3.709, 0.414]  (-1.946, 2.991]  (-1.905, 1.152]        5  \n",
       "3  (-3.709, 0.414]  (-1.946, 2.991]  (-1.905, 1.152]        6  \n",
       "4   (0.414, 4.528]  (-1.946, 2.991]  (-1.905, 1.152]        5  "
      ]
     },
     "execution_count": 29,
     "metadata": {},
     "output_type": "execute_result"
    }
   ],
   "source": [
    "x_disc.head()"
   ]
  },
  {
   "cell_type": "code",
   "execution_count": 30,
   "metadata": {},
   "outputs": [
    {
     "data": {
      "text/html": [
       "<div>\n",
       "<style scoped>\n",
       "    .dataframe tbody tr th:only-of-type {\n",
       "        vertical-align: middle;\n",
       "    }\n",
       "\n",
       "    .dataframe tbody tr th {\n",
       "        vertical-align: top;\n",
       "    }\n",
       "\n",
       "    .dataframe thead th {\n",
       "        text-align: right;\n",
       "    }\n",
       "</style>\n",
       "<table border=\"1\" class=\"dataframe\">\n",
       "  <thead>\n",
       "    <tr style=\"text-align: right;\">\n",
       "      <th></th>\n",
       "      <th></th>\n",
       "      <th>quality</th>\n",
       "    </tr>\n",
       "    <tr>\n",
       "      <th>chlorides</th>\n",
       "      <th>fixed_acidity</th>\n",
       "      <th></th>\n",
       "    </tr>\n",
       "  </thead>\n",
       "  <tbody>\n",
       "    <tr>\n",
       "      <th rowspan=\"2\" valign=\"top\">(-1.617, 4.762]</th>\n",
       "      <th>(-2.144, 1.109]</th>\n",
       "      <td>1354</td>\n",
       "    </tr>\n",
       "    <tr>\n",
       "      <th>(1.109, 4.355]</th>\n",
       "      <td>223</td>\n",
       "    </tr>\n",
       "    <tr>\n",
       "      <th rowspan=\"2\" valign=\"top\">(4.762, 11.127]</th>\n",
       "      <th>(-2.144, 1.109]</th>\n",
       "      <td>21</td>\n",
       "    </tr>\n",
       "    <tr>\n",
       "      <th>(1.109, 4.355]</th>\n",
       "      <td>1</td>\n",
       "    </tr>\n",
       "  </tbody>\n",
       "</table>\n",
       "</div>"
      ],
      "text/plain": [
       "                                 quality\n",
       "chlorides       fixed_acidity           \n",
       "(-1.617, 4.762] (-2.144, 1.109]     1354\n",
       "                (1.109, 4.355]       223\n",
       "(4.762, 11.127] (-2.144, 1.109]       21\n",
       "                (1.109, 4.355]         1"
      ]
     },
     "execution_count": 30,
     "metadata": {},
     "output_type": "execute_result"
    }
   ],
   "source": [
    "# x_disc.loc[:,['fixed_acidity', 'quality']].pivot_table()\n",
    "# pd.pivot_table(x_disc,values=[\"fixed_acidity\"], index=[\"chlorides\"], aggfunc='count')\n",
    "pd.pivot_table(x_disc,values=[\"quality\"], index=[\"chlorides\", 'fixed_acidity'], aggfunc='count')\n",
    "# x_disc['chlorides'].value_counts()\n"
   ]
  },
  {
   "cell_type": "code",
   "execution_count": 31,
   "metadata": {},
   "outputs": [
    {
     "data": {
      "text/plain": [
       "(array([ 10.,   0.,  53.,   0., 681.,   0., 638.,   0., 199.,  18.]),\n",
       " array([3. , 3.5, 4. , 4.5, 5. , 5.5, 6. , 6.5, 7. , 7.5, 8. ]),\n",
       " <BarContainer object of 10 artists>)"
      ]
     },
     "execution_count": 31,
     "metadata": {},
     "output_type": "execute_result"
    },
    {
     "data": {
      "image/png": "[encoded data removed]",
      "text/plain": [
       "<Figure size 432x288 with 1 Axes>"
      ]
     },
     "metadata": {
      "needs_background": "light"
     },
     "output_type": "display_data"
    }
   ],
   "source": [
    "############################\n",
    "# still need to binarize y for woe\n",
    "############################\n",
    "\n",
    "plt.hist(x_disc['quality'])"
   ]
  },
  {
   "cell_type": "code",
   "execution_count": 32,
   "metadata": {},
   "outputs": [],
   "source": [
    "\n",
    "# fd_path = os.getcwd()+'/features_detail.csv'\n",
    "\n",
    "# att = pd.read_csv(fd_path)\n",
    "\n",
    "# plt.figure(figsize=(16,8))\n",
    "# plt.barh(att2['var_name'], att2['iv_list']*10, color = '#317DC2')\n",
    "# plt.xlabel('Information Value')\n",
    "# plt.title('Information Value by Features', fontweight=\"bold\")\n",
    "# plt.grid()\n",
    "# plt.show()"
   ]
  },
  {
   "cell_type": "code",
   "execution_count": 33,
   "metadata": {},
   "outputs": [],
   "source": [
    "##########################################\n",
    "# let's use and my sagemaker\n",
    "##########################################\n",
    "\n",
    "\n",
    "\n",
    "# I know there is formatting issue with the code, but it works here\n",
    "# will address in future\n",
    "# I believe it is number -> character in the labels/legend\n",
    "\n",
    "##########################################\n",
    "# would like to compare to decision tree #  \n",
    "# perhaps in the future                  #   \n",
    "##########################################\n",
    "\n",
    "\n",
    "\n"
   ]
  },
  {
   "cell_type": "code",
   "execution_count": 34,
   "metadata": {},
   "outputs": [],
   "source": [
    "###################################\n",
    "# fit logistic\n",
    "###################################\n",
    "\n",
    "# train, test = train_test_split(df, test_size=0.3, random_state=3)\n",
    "\n",
    "# result = smf.ols('quality ~ volatile_acidity + citric_acid + residual_sugar + chlorides + free_sulfur_dioxide + total_sulfur_dioxide + density + pH  + alcohol + sulphates ', data=df).fit()\n",
    "\n",
    "# print(result.summary())\n",
    "\n",
    "from sklearn.linear_model import LogisticRegression\n",
    "from sklearn.metrics import classification_report, confusion_matrix\n"
   ]
  },
  {
   "cell_type": "code",
   "execution_count": 35,
   "metadata": {},
   "outputs": [],
   "source": [
    "# create additional flag \n",
    "\n",
    "df['quality_flag'] = (df['quality'] >= 7)"
   ]
  },
  {
   "cell_type": "code",
   "execution_count": 36,
   "metadata": {},
   "outputs": [
    {
     "data": {
      "text/html": [
       "<div>\n",
       "<style scoped>\n",
       "    .dataframe tbody tr th:only-of-type {\n",
       "        vertical-align: middle;\n",
       "    }\n",
       "\n",
       "    .dataframe tbody tr th {\n",
       "        vertical-align: top;\n",
       "    }\n",
       "\n",
       "    .dataframe thead th {\n",
       "        text-align: right;\n",
       "    }\n",
       "</style>\n",
       "<table border=\"1\" class=\"dataframe\">\n",
       "  <thead>\n",
       "    <tr style=\"text-align: right;\">\n",
       "      <th></th>\n",
       "      <th>fixed_acidity</th>\n",
       "      <th>volatile_acidity</th>\n",
       "      <th>citric_acid</th>\n",
       "      <th>residual_sugar</th>\n",
       "      <th>chlorides</th>\n",
       "      <th>free_sulfur_dioxide</th>\n",
       "      <th>total_sulfur_dioxide</th>\n",
       "      <th>density</th>\n",
       "      <th>pH</th>\n",
       "      <th>sulphates</th>\n",
       "      <th>alcohol</th>\n",
       "      <th>quality</th>\n",
       "      <th>quality_flag</th>\n",
       "    </tr>\n",
       "  </thead>\n",
       "  <tbody>\n",
       "    <tr>\n",
       "      <th>0</th>\n",
       "      <td>7.4</td>\n",
       "      <td>0.70</td>\n",
       "      <td>0.00</td>\n",
       "      <td>1.9</td>\n",
       "      <td>0.076</td>\n",
       "      <td>11.0</td>\n",
       "      <td>34.0</td>\n",
       "      <td>0.9978</td>\n",
       "      <td>3.51</td>\n",
       "      <td>0.56</td>\n",
       "      <td>9.4</td>\n",
       "      <td>5</td>\n",
       "      <td>False</td>\n",
       "    </tr>\n",
       "    <tr>\n",
       "      <th>1</th>\n",
       "      <td>7.8</td>\n",
       "      <td>0.88</td>\n",
       "      <td>0.00</td>\n",
       "      <td>2.6</td>\n",
       "      <td>0.098</td>\n",
       "      <td>25.0</td>\n",
       "      <td>67.0</td>\n",
       "      <td>0.9968</td>\n",
       "      <td>3.20</td>\n",
       "      <td>0.68</td>\n",
       "      <td>9.8</td>\n",
       "      <td>5</td>\n",
       "      <td>False</td>\n",
       "    </tr>\n",
       "    <tr>\n",
       "      <th>2</th>\n",
       "      <td>7.8</td>\n",
       "      <td>0.76</td>\n",
       "      <td>0.04</td>\n",
       "      <td>2.3</td>\n",
       "      <td>0.092</td>\n",
       "      <td>15.0</td>\n",
       "      <td>54.0</td>\n",
       "      <td>0.9970</td>\n",
       "      <td>3.26</td>\n",
       "      <td>0.65</td>\n",
       "      <td>9.8</td>\n",
       "      <td>5</td>\n",
       "      <td>False</td>\n",
       "    </tr>\n",
       "    <tr>\n",
       "      <th>3</th>\n",
       "      <td>11.2</td>\n",
       "      <td>0.28</td>\n",
       "      <td>0.56</td>\n",
       "      <td>1.9</td>\n",
       "      <td>0.075</td>\n",
       "      <td>17.0</td>\n",
       "      <td>60.0</td>\n",
       "      <td>0.9980</td>\n",
       "      <td>3.16</td>\n",
       "      <td>0.58</td>\n",
       "      <td>9.8</td>\n",
       "      <td>6</td>\n",
       "      <td>False</td>\n",
       "    </tr>\n",
       "    <tr>\n",
       "      <th>4</th>\n",
       "      <td>7.4</td>\n",
       "      <td>0.70</td>\n",
       "      <td>0.00</td>\n",
       "      <td>1.9</td>\n",
       "      <td>0.076</td>\n",
       "      <td>11.0</td>\n",
       "      <td>34.0</td>\n",
       "      <td>0.9978</td>\n",
       "      <td>3.51</td>\n",
       "      <td>0.56</td>\n",
       "      <td>9.4</td>\n",
       "      <td>5</td>\n",
       "      <td>False</td>\n",
       "    </tr>\n",
       "  </tbody>\n",
       "</table>\n",
       "</div>"
      ],
      "text/plain": [
       "   fixed_acidity  volatile_acidity  citric_acid  residual_sugar  chlorides  \\\n",
       "0            7.4              0.70         0.00             1.9      0.076   \n",
       "1            7.8              0.88         0.00             2.6      0.098   \n",
       "2            7.8              0.76         0.04             2.3      0.092   \n",
       "3           11.2              0.28         0.56             1.9      0.075   \n",
       "4            7.4              0.70         0.00             1.9      0.076   \n",
       "\n",
       "   free_sulfur_dioxide  total_sulfur_dioxide  density    pH  sulphates  \\\n",
       "0                 11.0                  34.0   0.9978  3.51       0.56   \n",
       "1                 25.0                  67.0   0.9968  3.20       0.68   \n",
       "2                 15.0                  54.0   0.9970  3.26       0.65   \n",
       "3                 17.0                  60.0   0.9980  3.16       0.58   \n",
       "4                 11.0                  34.0   0.9978  3.51       0.56   \n",
       "\n",
       "   alcohol  quality  quality_flag  \n",
       "0      9.4        5         False  \n",
       "1      9.8        5         False  \n",
       "2      9.8        5         False  \n",
       "3      9.8        6         False  \n",
       "4      9.4        5         False  "
      ]
     },
     "execution_count": 36,
     "metadata": {},
     "output_type": "execute_result"
    }
   ],
   "source": [
    "df.head()"
   ]
  },
  {
   "cell_type": "code",
   "execution_count": 37,
   "metadata": {},
   "outputs": [],
   "source": [
    "train2, test2 = train_test_split(df, test_size=0.3, random_state=3)"
   ]
  },
  {
   "cell_type": "code",
   "execution_count": 38,
   "metadata": {},
   "outputs": [],
   "source": [
    "x_in=df.loc[:,['fixed_acidity','volatile_acidity','citric_acid','residual_sugar','chlorides','free_sulfur_dioxide','total_sulfur_dioxide','density','pH','sulphates','alcohol']]\n",
    "y_in=df.loc[:,'quality_flag']\n",
    "# ['fixed_acidity','volatile_acidity','citric_acid','residual_sugar','chlorides','free_sulfur_dioxide','total_sulfur_dioxide','density','pH','sulphates','alcohol']"
   ]
  },
  {
   "cell_type": "code",
   "execution_count": 39,
   "metadata": {},
   "outputs": [],
   "source": [
    "# train2.shape"
   ]
  },
  {
   "cell_type": "code",
   "execution_count": 40,
   "metadata": {},
   "outputs": [],
   "source": [
    "model = LogisticRegression(solver='liblinear', random_state=0)"
   ]
  },
  {
   "cell_type": "code",
   "execution_count": 41,
   "metadata": {},
   "outputs": [
    {
     "data": {
      "text/plain": [
       "LogisticRegression(random_state=0, solver='liblinear')"
      ]
     },
     "execution_count": 41,
     "metadata": {},
     "output_type": "execute_result"
    }
   ],
   "source": [
    "model.fit(x_in, y_in)"
   ]
  },
  {
   "cell_type": "code",
   "execution_count": 42,
   "metadata": {},
   "outputs": [
    {
     "data": {
      "text/plain": [
       "array([[-0.06383537, -2.76955559,  0.25701571,  0.10234092, -1.57629003,\n",
       "         0.01391597, -0.01721925, -1.43782268, -2.52949107,  2.15474612,\n",
       "         0.92372159]])"
      ]
     },
     "execution_count": 42,
     "metadata": {},
     "output_type": "execute_result"
    }
   ],
   "source": [
    "model.coef_"
   ]
  },
  {
   "cell_type": "code",
   "execution_count": 43,
   "metadata": {},
   "outputs": [
    {
     "data": {
      "text/plain": [
       "{'C': 1.0,\n",
       " 'class_weight': None,\n",
       " 'dual': False,\n",
       " 'fit_intercept': True,\n",
       " 'intercept_scaling': 1,\n",
       " 'l1_ratio': None,\n",
       " 'max_iter': 100,\n",
       " 'multi_class': 'auto',\n",
       " 'n_jobs': None,\n",
       " 'penalty': 'l2',\n",
       " 'random_state': 0,\n",
       " 'solver': 'liblinear',\n",
       " 'tol': 0.0001,\n",
       " 'verbose': 0,\n",
       " 'warm_start': False}"
      ]
     },
     "execution_count": 43,
     "metadata": {},
     "output_type": "execute_result"
    }
   ],
   "source": [
    "model.get_params()"
   ]
  },
  {
   "cell_type": "code",
   "execution_count": 44,
   "metadata": {},
   "outputs": [
    {
     "data": {
      "text/plain": [
       "array([[-0.06383537, -2.76955559,  0.25701571,  0.10234092, -1.57629003,\n",
       "         0.01391597, -0.01721925, -1.43782268, -2.52949107,  2.15474612,\n",
       "         0.92372159]])"
      ]
     },
     "execution_count": 44,
     "metadata": {},
     "output_type": "execute_result"
    }
   ],
   "source": [
    "model.coef_"
   ]
  },
  {
   "cell_type": "code",
   "execution_count": 45,
   "metadata": {},
   "outputs": [
    {
     "data": {
      "text/plain": [
       "['fixed_acidity',\n",
       " 'volatile_acidity',\n",
       " 'citric_acid',\n",
       " 'residual_sugar',\n",
       " 'chlorides',\n",
       " 'free_sulfur_dioxide',\n",
       " 'total_sulfur_dioxide',\n",
       " 'density',\n",
       " 'pH',\n",
       " 'alcohol',\n",
       " 'sulphates']"
      ]
     },
     "execution_count": 45,
     "metadata": {},
     "output_type": "execute_result"
    }
   ],
   "source": [
    "cols"
   ]
  },
  {
   "cell_type": "code",
   "execution_count": 46,
   "metadata": {},
   "outputs": [],
   "source": [
    "# Prob.s\n",
    "\n",
    "probs=pd.DataFrame(model.predict_proba(x_in), columns=('prob0', 'prob1')).round(3)"
   ]
  },
  {
   "cell_type": "code",
   "execution_count": 47,
   "metadata": {},
   "outputs": [
    {
     "data": {
      "text/plain": [
       "0.8792995622263915"
      ]
     },
     "execution_count": 47,
     "metadata": {},
     "output_type": "execute_result"
    }
   ],
   "source": [
    "# pd.pivot_table(y_in,model.predict(x_in))\n",
    "model.score(x_in, y_in)"
   ]
  },
  {
   "cell_type": "code",
   "execution_count": 48,
   "metadata": {},
   "outputs": [
    {
     "data": {
      "text/plain": [
       "array([[1346,   36],\n",
       "       [ 157,   60]])"
      ]
     },
     "execution_count": 48,
     "metadata": {},
     "output_type": "execute_result"
    }
   ],
   "source": [
    "confusion_matrix(y_in, model.predict(x_in))"
   ]
  },
  {
   "cell_type": "code",
   "execution_count": 49,
   "metadata": {},
   "outputs": [],
   "source": [
    "df2=pd.concat([df,probs],axis=1)"
   ]
  },
  {
   "cell_type": "code",
   "execution_count": 50,
   "metadata": {},
   "outputs": [
    {
     "name": "stdout",
     "output_type": "stream",
     "text": [
      "              precision    recall  f1-score   support\n",
      "\n",
      "       False       0.90      0.97      0.93      1382\n",
      "        True       0.62      0.28      0.38       217\n",
      "\n",
      "    accuracy                           0.88      1599\n",
      "   macro avg       0.76      0.63      0.66      1599\n",
      "weighted avg       0.86      0.88      0.86      1599\n",
      "\n"
     ]
    }
   ],
   "source": [
    "###################################\n",
    "# Classification and roc curve\n",
    "###################################\n",
    "\n",
    "\n",
    "print(classification_report(y_in, model.predict(x_in)))\n"
   ]
  },
  {
   "cell_type": "code",
   "execution_count": 51,
   "metadata": {},
   "outputs": [
    {
     "data": {
      "text/html": [
       "<div>\n",
       "<style scoped>\n",
       "    .dataframe tbody tr th:only-of-type {\n",
       "        vertical-align: middle;\n",
       "    }\n",
       "\n",
       "    .dataframe tbody tr th {\n",
       "        vertical-align: top;\n",
       "    }\n",
       "\n",
       "    .dataframe thead th {\n",
       "        text-align: right;\n",
       "    }\n",
       "</style>\n",
       "<table border=\"1\" class=\"dataframe\">\n",
       "  <thead>\n",
       "    <tr style=\"text-align: right;\">\n",
       "      <th></th>\n",
       "      <th>fixed_acidity</th>\n",
       "      <th>volatile_acidity</th>\n",
       "      <th>citric_acid</th>\n",
       "      <th>residual_sugar</th>\n",
       "      <th>chlorides</th>\n",
       "      <th>free_sulfur_dioxide</th>\n",
       "      <th>total_sulfur_dioxide</th>\n",
       "      <th>density</th>\n",
       "      <th>pH</th>\n",
       "      <th>sulphates</th>\n",
       "      <th>alcohol</th>\n",
       "      <th>quality</th>\n",
       "      <th>quality_flag</th>\n",
       "    </tr>\n",
       "  </thead>\n",
       "  <tbody>\n",
       "    <tr>\n",
       "      <th>0</th>\n",
       "      <td>7.4</td>\n",
       "      <td>0.700</td>\n",
       "      <td>0.00</td>\n",
       "      <td>1.9</td>\n",
       "      <td>0.076</td>\n",
       "      <td>11.0</td>\n",
       "      <td>34.0</td>\n",
       "      <td>0.99780</td>\n",
       "      <td>3.51</td>\n",
       "      <td>0.56</td>\n",
       "      <td>9.4</td>\n",
       "      <td>5</td>\n",
       "      <td>False</td>\n",
       "    </tr>\n",
       "    <tr>\n",
       "      <th>1</th>\n",
       "      <td>7.8</td>\n",
       "      <td>0.880</td>\n",
       "      <td>0.00</td>\n",
       "      <td>2.6</td>\n",
       "      <td>0.098</td>\n",
       "      <td>25.0</td>\n",
       "      <td>67.0</td>\n",
       "      <td>0.99680</td>\n",
       "      <td>3.20</td>\n",
       "      <td>0.68</td>\n",
       "      <td>9.8</td>\n",
       "      <td>5</td>\n",
       "      <td>False</td>\n",
       "    </tr>\n",
       "    <tr>\n",
       "      <th>2</th>\n",
       "      <td>7.8</td>\n",
       "      <td>0.760</td>\n",
       "      <td>0.04</td>\n",
       "      <td>2.3</td>\n",
       "      <td>0.092</td>\n",
       "      <td>15.0</td>\n",
       "      <td>54.0</td>\n",
       "      <td>0.99700</td>\n",
       "      <td>3.26</td>\n",
       "      <td>0.65</td>\n",
       "      <td>9.8</td>\n",
       "      <td>5</td>\n",
       "      <td>False</td>\n",
       "    </tr>\n",
       "    <tr>\n",
       "      <th>3</th>\n",
       "      <td>11.2</td>\n",
       "      <td>0.280</td>\n",
       "      <td>0.56</td>\n",
       "      <td>1.9</td>\n",
       "      <td>0.075</td>\n",
       "      <td>17.0</td>\n",
       "      <td>60.0</td>\n",
       "      <td>0.99800</td>\n",
       "      <td>3.16</td>\n",
       "      <td>0.58</td>\n",
       "      <td>9.8</td>\n",
       "      <td>6</td>\n",
       "      <td>False</td>\n",
       "    </tr>\n",
       "    <tr>\n",
       "      <th>4</th>\n",
       "      <td>7.4</td>\n",
       "      <td>0.700</td>\n",
       "      <td>0.00</td>\n",
       "      <td>1.9</td>\n",
       "      <td>0.076</td>\n",
       "      <td>11.0</td>\n",
       "      <td>34.0</td>\n",
       "      <td>0.99780</td>\n",
       "      <td>3.51</td>\n",
       "      <td>0.56</td>\n",
       "      <td>9.4</td>\n",
       "      <td>5</td>\n",
       "      <td>False</td>\n",
       "    </tr>\n",
       "    <tr>\n",
       "      <th>...</th>\n",
       "      <td>...</td>\n",
       "      <td>...</td>\n",
       "      <td>...</td>\n",
       "      <td>...</td>\n",
       "      <td>...</td>\n",
       "      <td>...</td>\n",
       "      <td>...</td>\n",
       "      <td>...</td>\n",
       "      <td>...</td>\n",
       "      <td>...</td>\n",
       "      <td>...</td>\n",
       "      <td>...</td>\n",
       "      <td>...</td>\n",
       "    </tr>\n",
       "    <tr>\n",
       "      <th>1594</th>\n",
       "      <td>6.2</td>\n",
       "      <td>0.600</td>\n",
       "      <td>0.08</td>\n",
       "      <td>2.0</td>\n",
       "      <td>0.090</td>\n",
       "      <td>32.0</td>\n",
       "      <td>44.0</td>\n",
       "      <td>0.99490</td>\n",
       "      <td>3.45</td>\n",
       "      <td>0.58</td>\n",
       "      <td>10.5</td>\n",
       "      <td>5</td>\n",
       "      <td>False</td>\n",
       "    </tr>\n",
       "    <tr>\n",
       "      <th>1595</th>\n",
       "      <td>5.9</td>\n",
       "      <td>0.550</td>\n",
       "      <td>0.10</td>\n",
       "      <td>2.2</td>\n",
       "      <td>0.062</td>\n",
       "      <td>39.0</td>\n",
       "      <td>51.0</td>\n",
       "      <td>0.99512</td>\n",
       "      <td>3.52</td>\n",
       "      <td>0.76</td>\n",
       "      <td>11.2</td>\n",
       "      <td>6</td>\n",
       "      <td>False</td>\n",
       "    </tr>\n",
       "    <tr>\n",
       "      <th>1596</th>\n",
       "      <td>6.3</td>\n",
       "      <td>0.510</td>\n",
       "      <td>0.13</td>\n",
       "      <td>2.3</td>\n",
       "      <td>0.076</td>\n",
       "      <td>29.0</td>\n",
       "      <td>40.0</td>\n",
       "      <td>0.99574</td>\n",
       "      <td>3.42</td>\n",
       "      <td>0.75</td>\n",
       "      <td>11.0</td>\n",
       "      <td>6</td>\n",
       "      <td>False</td>\n",
       "    </tr>\n",
       "    <tr>\n",
       "      <th>1597</th>\n",
       "      <td>5.9</td>\n",
       "      <td>0.645</td>\n",
       "      <td>0.12</td>\n",
       "      <td>2.0</td>\n",
       "      <td>0.075</td>\n",
       "      <td>32.0</td>\n",
       "      <td>44.0</td>\n",
       "      <td>0.99547</td>\n",
       "      <td>3.57</td>\n",
       "      <td>0.71</td>\n",
       "      <td>10.2</td>\n",
       "      <td>5</td>\n",
       "      <td>False</td>\n",
       "    </tr>\n",
       "    <tr>\n",
       "      <th>1598</th>\n",
       "      <td>6.0</td>\n",
       "      <td>0.310</td>\n",
       "      <td>0.47</td>\n",
       "      <td>3.6</td>\n",
       "      <td>0.067</td>\n",
       "      <td>18.0</td>\n",
       "      <td>42.0</td>\n",
       "      <td>0.99549</td>\n",
       "      <td>3.39</td>\n",
       "      <td>0.66</td>\n",
       "      <td>11.0</td>\n",
       "      <td>6</td>\n",
       "      <td>False</td>\n",
       "    </tr>\n",
       "  </tbody>\n",
       "</table>\n",
       "<p>1599 rows × 13 columns</p>\n",
       "</div>"
      ],
      "text/plain": [
       "      fixed_acidity  volatile_acidity  citric_acid  residual_sugar  chlorides  \\\n",
       "0               7.4             0.700         0.00             1.9      0.076   \n",
       "1               7.8             0.880         0.00             2.6      0.098   \n",
       "2               7.8             0.760         0.04             2.3      0.092   \n",
       "3              11.2             0.280         0.56             1.9      0.075   \n",
       "4               7.4             0.700         0.00             1.9      0.076   \n",
       "...             ...               ...          ...             ...        ...   \n",
       "1594            6.2             0.600         0.08             2.0      0.090   \n",
       "1595            5.9             0.550         0.10             2.2      0.062   \n",
       "1596            6.3             0.510         0.13             2.3      0.076   \n",
       "1597            5.9             0.645         0.12             2.0      0.075   \n",
       "1598            6.0             0.310         0.47             3.6      0.067   \n",
       "\n",
       "      free_sulfur_dioxide  total_sulfur_dioxide  density    pH  sulphates  \\\n",
       "0                    11.0                  34.0  0.99780  3.51       0.56   \n",
       "1                    25.0                  67.0  0.99680  3.20       0.68   \n",
       "2                    15.0                  54.0  0.99700  3.26       0.65   \n",
       "3                    17.0                  60.0  0.99800  3.16       0.58   \n",
       "4                    11.0                  34.0  0.99780  3.51       0.56   \n",
       "...                   ...                   ...      ...   ...        ...   \n",
       "1594                 32.0                  44.0  0.99490  3.45       0.58   \n",
       "1595                 39.0                  51.0  0.99512  3.52       0.76   \n",
       "1596                 29.0                  40.0  0.99574  3.42       0.75   \n",
       "1597                 32.0                  44.0  0.99547  3.57       0.71   \n",
       "1598                 18.0                  42.0  0.99549  3.39       0.66   \n",
       "\n",
       "      alcohol  quality  quality_flag  \n",
       "0         9.4        5         False  \n",
       "1         9.8        5         False  \n",
       "2         9.8        5         False  \n",
       "3         9.8        6         False  \n",
       "4         9.4        5         False  \n",
       "...       ...      ...           ...  \n",
       "1594     10.5        5         False  \n",
       "1595     11.2        6         False  \n",
       "1596     11.0        6         False  \n",
       "1597     10.2        5         False  \n",
       "1598     11.0        6         False  \n",
       "\n",
       "[1599 rows x 13 columns]"
      ]
     },
     "execution_count": 51,
     "metadata": {},
     "output_type": "execute_result"
    }
   ],
   "source": [
    "df"
   ]
  },
  {
   "cell_type": "code",
   "execution_count": 52,
   "metadata": {},
   "outputs": [],
   "source": [
    "from sklearn import metrics"
   ]
  },
  {
   "cell_type": "code",
   "execution_count": 53,
   "metadata": {},
   "outputs": [
    {
     "name": "stderr",
     "output_type": "stream",
     "text": [
      "/Users/danielcovarrubias/Projects/sot_interview_prep/.venv/lib/python3.9/site-packages/sklearn/utils/deprecation.py:87: FutureWarning: Function plot_roc_curve is deprecated; Function :func:`plot_roc_curve` is deprecated in 1.0 and will be removed in 1.2. Use one of the class methods: :meth:`sklearn.metric.RocCurveDisplay.from_predictions` or :meth:`sklearn.metric.RocCurveDisplay.from_estimator`.\n",
      "  warnings.warn(msg, category=FutureWarning)\n"
     ]
    },
    {
     "data": {
      "image/png": "[encoded data removed]",
      "text/plain": [
       "<Figure size 432x288 with 1 Axes>"
      ]
     },
     "metadata": {
      "needs_background": "light"
     },
     "output_type": "display_data"
    }
   ],
   "source": [
    "metrics.plot_roc_curve(model, x_in, y_in) \n",
    "plt.grid()"
   ]
  },
  {
   "cell_type": "code",
   "execution_count": 54,
   "metadata": {},
   "outputs": [
    {
     "data": {
      "text/plain": [
       "(array([  5.,  18.,  76., 155., 257., 218., 153.,  77.,  28.,  13.]),\n",
       " array([-30.8867891 , -24.73723203, -18.58767496, -12.43811789,\n",
       "         -6.28856082,  -0.13900376,   6.01055331,  12.16011038,\n",
       "         18.30966745,  24.45922452,  30.60878159]),\n",
       " <BarContainer object of 10 artists>)"
      ]
     },
     "execution_count": 54,
     "metadata": {},
     "output_type": "execute_result"
    },
    {
     "data": {
      "image/png": "[encoded data removed]",
      "text/plain": [
       "<Figure size 432x288 with 1 Axes>"
      ]
     },
     "metadata": {
      "needs_background": "light"
     },
     "output_type": "display_data"
    }
   ],
   "source": [
    "#####################\n",
    "# create normal scatter plot\n",
    "#####################\n",
    "\n",
    "x=np.random.normal(0, 10, 1000)\n",
    "plt.hist(x)\n"
   ]
  },
  {
   "cell_type": "code",
   "execution_count": 55,
   "metadata": {},
   "outputs": [
    {
     "name": "stderr",
     "output_type": "stream",
     "text": [
      "No artists with labels found to put in legend.  Note that artists whose label start with an underscore are ignored when legend() is called with no argument.\n"
     ]
    },
    {
     "data": {
      "image/png": "[encoded data removed]",
      "text/plain": [
       "<Figure size 432x288 with 1 Axes>"
      ]
     },
     "metadata": {
      "needs_background": "light"
     },
     "output_type": "display_data"
    }
   ],
   "source": [
    "import numpy as np\n",
    "import matplotlib.pyplot as plt\n",
    "\n",
    "np.random.seed(19680801)\n",
    "\n",
    "fig, ax = plt.subplots()\n",
    "for color in ['tab:blue', 'tab:orange', 'tab:green']:\n",
    "    n = 750\n",
    "    # x, y = np.random.rand(2, n)\n",
    "    x=np.random.normal(0, 10, n)\n",
    "    y=np.random.normal(0, 10, n)\n",
    "    # scale = 200.0 * np.random.rand(n)\n",
    "    # scale = np.random.normal(0, 10, n)\n",
    "    ax.scatter(x\n",
    "               , y\n",
    "               , c=color\n",
    "               # , s=scale\n",
    "               # , label=[['Group1', 'Group 2', 'Group 3']]\n",
    "               , alpha=0.4\n",
    "               , edgecolors='none'\n",
    "               )\n",
    "\n",
    "ax.set_title('K-means Clustering', fontsize = 20)\n",
    "ax.legend(loc=1)\n",
    "ax.grid(True)\n",
    "\n",
    "plt.show()"
   ]
  },
  {
   "cell_type": "code",
   "execution_count": 56,
   "metadata": {},
   "outputs": [
    {
     "data": {
      "image/png": "[encoded data removed]",
      "text/plain": [
       "<Figure size 432x288 with 1 Axes>"
      ]
     },
     "metadata": {
      "needs_background": "light"
     },
     "output_type": "display_data"
    }
   ],
   "source": [
    "N = 1000\n",
    "# x, y = np.random.rand(2, N)\n",
    "x=np.random.normal(0, 5, N)\n",
    "y=np.random.normal(0, 5, N)\n",
    "c = np.random.randint(1, 5, size=N)\n",
    "s = np.random.randint(10, 100, size=N)\n",
    "\n",
    "fig, ax = plt.subplots()\n",
    "\n",
    "scatter = ax.scatter(x, y, c=c, s=s, alpha=0.6)\n",
    "\n",
    "# produce a legend with the unique colors from the scatter\n",
    "legend1 = ax.legend(*scatter.legend_elements(), loc=\"upper left\", title=\"Cluster\")\n",
    "ax.set_title('K-means Clusters', fontsize = 20)\n",
    "ax.add_artist(legend1)\n",
    "\n",
    "# produce a legend with a cross section of sizes from the scatter\n",
    "# handles, labels = scatter.legend_elements(prop=\"sizes\", alpha=0.6)\n",
    "# legend2 = ax.legend(handles, labels, loc=\"upper right\", title=\"Sizes\")\n",
    "\n",
    "# plt.grid()\n",
    "# plt.show()\n",
    "plt.savefig('/Users/danielcovarrubias/Projects/sot_interview_prep/images/testImage.jpg')\n"
   ]
  },
  {
   "cell_type": "code",
   "execution_count": 17,
   "metadata": {},
   "outputs": [
    {
     "data": {
      "text/plain": [
       "{1, 2, 3, 4, 6, 8, 9}"
      ]
     },
     "execution_count": 17,
     "metadata": {},
     "output_type": "execute_result"
    }
   ],
   "source": [
    "set(lst)"
   ]
  },
  {
   "cell_type": "code",
   "execution_count": null,
   "metadata": {},
   "outputs": [],
   "source": []
  }
 ],
 "metadata": {
  "kernelspec": {
   "display_name": "Python 3.8.9 ('venv': venv)",
   "language": "python",
   "name": "python3"
  },
  "language_info": {
   "codemirror_mode": {
    "name": "ipython",
    "version": 3
   },
   "file_extension": ".py",
   "mimetype": "text/x-python",
   "name": "python",
   "nbconvert_exporter": "python",
   "pygments_lexer": "ipython3",
   "version": "3.9.6"
  },
  "orig_nbformat": 4,
  "vscode": {
   "interpreter": {
    "hash": "423b59fdc725c40632cd851348d8681f92aac21a69a73c16410966ff38bc8229"
   }
  }
 },
 "nbformat": 4,
 "nbformat_minor": 2
}
